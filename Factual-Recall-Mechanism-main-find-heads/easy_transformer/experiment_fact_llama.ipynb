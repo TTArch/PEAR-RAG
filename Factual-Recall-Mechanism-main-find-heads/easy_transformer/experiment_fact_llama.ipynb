{
 "cells": [
  {
   "cell_type": "markdown",
   "metadata": {},
   "source": [
    "## Setup"
   ]
  },
  {
   "cell_type": "code",
   "execution_count": 1,
   "metadata": {
    "metadata": {}
   },
   "outputs": [
    {
     "data": {
      "text/plain": [
       "4"
      ]
     },
     "execution_count": 1,
     "metadata": {},
     "output_type": "execute_result"
    }
   ],
   "source": [
    "import os\n",
    "os.environ['CUDA_VISIBLE_DEVICES'] = '1,3,4,5' #'0,1,2,3'  \n",
    "import torch \n",
    "torch.cuda.device_count()\n"
   ]
  },
  {
   "cell_type": "markdown",
   "metadata": {},
   "source": []
  },
  {
   "cell_type": "code",
   "execution_count": 2,
   "metadata": {
    "metadata": {}
   },
   "outputs": [
    {
     "name": "stderr",
     "output_type": "stream",
     "text": [
      "/root/anaconda3/envs/nn/lib/python3.10/site-packages/tqdm/auto.py:21: TqdmWarning: IProgress not found. Please update jupyter and ipywidgets. See https://ipywidgets.readthedocs.io/en/stable/user_install.html\n",
      "  from .autonotebook import tqdm as notebook_tqdm\n",
      "install flash-attn for fast training!\n",
      "Loading checkpoint shards: 100%|██████████| 2/2 [00:01<00:00,  1.33it/s]\n"
     ]
    }
   ],
   "source": [
    "\n",
    "#os.environ['HF_HOME'] = \"/baichuan/huggingface_model\"\n",
    "import os\n",
    "import torch\n",
    "# assert torch.cuda.device_count() == 1\n",
    "from tqdm import tqdm\n",
    "import pandas as pd\n",
    "import torch\n",
    "import torch as t\n",
    "from easy_transformer.EasyTransformer_llama import (\n",
    "    EasyTransformer,\n",
    ")\n",
    "from time import ctime\n",
    "from functools import partial\n",
    "\n",
    "import numpy as np\n",
    "from tqdm import tqdm\n",
    "import pandas as pd\n",
    "\n",
    "from easy_transformer.experiments import (\n",
    "    ExperimentMetric,\n",
    "    AblationConfig,\n",
    "    EasyAblation,\n",
    "    EasyPatching,\n",
    "    PatchingConfig,\n",
    ")\n",
    "import plotly.express as px\n",
    "import plotly.io as pio\n",
    "import plotly.graph_objects as go\n",
    "import random\n",
    "import einops\n",
    "from IPython import get_ipython\n",
    "from copy import deepcopy\n",
    "from easy_transformer.fact_dataset_llama import (\n",
    "    FactDataset,\n",
    ")\n",
    "from easy_transformer.fact_utils import (\n",
    "    path_patching,\n",
    "    max_2d,\n",
    "    show_pp,\n",
    "    show_attention_patterns,\n",
    "    plot_path_patching,\n",
    "    plot_path_patching2,\n",
    "    scatter_attention_and_contribution,\n",
    ")\n",
    "from random import randint as ri\n",
    "from easy_transformer.fact_circuit_extraction import (\n",
    "    do_circuit_extraction,\n",
    "    get_heads_circuit,\n",
    "    get_mlps_circuit\n",
    ")\n",
    "from easy_transformer.fact_utils import logit_diff, probs\n",
    "# from easy_transformer.ioi_utils import get_top_tokens_and_probs as g\n",
    "\n",
    "ipython = get_ipython()\n",
    "if ipython is not None:\n",
    "    ipython.magic(\"load_ext autoreload\")\n",
    "    ipython.magic(\"autoreload 2\")\n",
    "    \n",
    "seed = 10024\n",
    "torch.manual_seed(seed)\n",
    "random.seed(seed)\n",
    "np.random.seed(seed)\n",
    "# Initialise model (use larger N or fewer templates for no warnings about in-template ablation)\n",
    "model = EasyTransformer.from_pretrained(\"llama2-7b-chat\").cuda()\n",
    "# model.set_use_headwise_qkv_input(True)\n",
    "# model.set_use_attn_result(True)\n",
    "\n",
    "figure_save_dir = f'output_figures/nation_fact/{model.cfg.model_name}'\n",
    "os.makedirs(figure_save_dir, exist_ok=True) \n",
    "\n",
    "tensor_save_dir = f'saved_tensors/nation_fact/{model.cfg.model_name}'\n",
    "os.makedirs(tensor_save_dir, exist_ok=True) "
   ]
  },
  {
   "cell_type": "code",
   "execution_count": null,
   "metadata": {},
   "outputs": [],
   "source": []
  },
  {
   "cell_type": "code",
   "execution_count": null,
   "metadata": {},
   "outputs": [],
   "source": [
    "# 把EasyTransformer的from_pretrained中的ori设为False，然后运行\n",
    "# ori_model = EasyTransformer.from_pretrained(\"milm-32k\").cuda()"
   ]
  },
  {
   "cell_type": "code",
   "execution_count": null,
   "metadata": {},
   "outputs": [],
   "source": [
    "# toks = torch.Tensor(model.tokenizer(\"You should know that England's capital is\", padding=True).input_ids).type(\n",
    "#             torch.int\n",
    "#         ).unsqueeze(0).cuda()"
   ]
  },
  {
   "cell_type": "code",
   "execution_count": null,
   "metadata": {},
   "outputs": [],
   "source": [
    "\n",
    "# model.eval()\n",
    "# out = model.generate(toks, max_new_tokens=1, do_sample=False)\n",
    "# # out_ori = ori_model.generate(toks, max_new_tokens=10)\n",
    "# print(model.tokenizer.decode(out[0]))\n",
    "# # print(out)"
   ]
  },
  {
   "cell_type": "code",
   "execution_count": null,
   "metadata": {},
   "outputs": [],
   "source": [
    "# ori_model.eval()\n",
    "# out = ori_model.generate(toks, max_new_tokens=1, do_sample=False)\n",
    "# print(model.tokenizer.decode(out[0]))\n"
   ]
  },
  {
   "cell_type": "code",
   "execution_count": null,
   "metadata": {},
   "outputs": [],
   "source": [
    "# from easy_transformer.modeling_milm import VAR,PRE\n",
    "\n",
    "# from easy_transformer.EasyTransformer import var\n",
    "# # while var:\n",
    "# #     var.pop()\n",
    "# # while VAR:\n",
    "# #     VAR.pop()\n",
    "# # while PRE:\n",
    "# #     PRE.pop()\n",
    "# print(len(var))\n",
    "# print(len(VAR))\n",
    "# print(len(PRE))\n",
    "# # print(var[0].cuda().to(torch.float32).equal(VAR[0].cuda().to(torch.float32)))\n",
    "# # print()\n",
    "# for i in range(len(VAR)):\n",
    "#     a = VAR[i].cpu()\n",
    "#     b = var[i].cpu()\n",
    "#     # print(a.shape)\n",
    "#     if not a.equal(b) :\n",
    "#         print(i)\n",
    "#         for i in range(a.shape[1]):\n",
    "#             if not a[:, i].eq(b[:, i]).all():\n",
    "#                 print(a[:, i].eq(b[:, i]))\n",
    "#                 print(a[:,i])\n",
    "#                 print(b[:,i])\n",
    "#         # print(a[:,0].item())\n",
    "#         # print(b[:,0].item())\n",
    "#         print(a.dtype)\n",
    "#         print(b.dtype)\n",
    "        \n",
    "\n"
   ]
  },
  {
   "cell_type": "markdown",
   "metadata": {},
   "source": [
    "## Path Patching: Heads Contributing to Final Logits"
   ]
  },
  {
   "cell_type": "code",
   "execution_count": 18,
   "metadata": {},
   "outputs": [
    {
     "name": "stdout",
     "output_type": "stream",
     "text": [
      "Warning: There are only 225 unique data sample in dataset\n",
      "[\"<s>|Without|a|doubt|,|USA|'|s|capital|is|Washington|</s>|</s>|</s>|</s>|</s>|</s>|</s>|</s>\", \"<s>|In|case|you|didn|'|t|know|,|Th|ailand|'|s|capital|is|Bang|k|ok|</s>\"]\n",
      "Here are two of the prompts from the dataset: [\"Without a doubt, USA's capital is Washington\", \"In case you didn't know, Thailand's capital is Bangkok\"]\n",
      "tensor([[    1, 13932,   263,  7404, 29892,  8278, 29915, 29879,  7483,   338,\n",
      "          7660,     2,     2,     2,     2,     2,     2,     2,     2],\n",
      "        [    1,   512,  1206,   366,  3282, 29915, 29873,  1073, 29892,   498,\n",
      "         26517, 29915, 29879,  7483,   338, 14320, 29895,   554,     2]],\n",
      "       dtype=torch.int32)\n",
      "[\"<s>|Without|a|doubt|,|Portugal|'|s|capital|is|Washington|</s>|</s>|</s>|</s>|</s>|</s>|</s>\", \"<s>|In|case|you|didn|'|t|know|,|Australia|'|s|capital|is|Bang|k|ok|</s>\"]\n",
      "tensor([ 9, 14])\n",
      "tensor([[    1, 13932,   263,  7404, 29892, 12077, 29915, 29879,  7483,   338,\n",
      "          7660,     2,     2,     2,     2,     2,     2,     2],\n",
      "        [    1,   512,  1206,   366,  3282, 29915, 29873,  1073, 29892,  8314,\n",
      "         29915, 29879,  7483,   338, 14320, 29895,   554,     2]],\n",
      "       dtype=torch.int32)\n"
     ]
    }
   ],
   "source": [
    "\n",
    "f_dataset = FactDataset(\n",
    "    prompt_type=\"NCNC\",\n",
    "    N=1000,\n",
    "    tokenizer=model.tokenizer,\n",
    "    prepend_bos=False,\n",
    "    counterfact=False,\n",
    ")\n",
    "# f_dataset = f_dataset.add_a_shot().add_a_shot() # call add_a_shot() for one more shot\n",
    "print(f_dataset.tokenized_prompts[:2])\n",
    "print(f\"Here are two of the prompts from the dataset: {f_dataset.sentences[:2]}\")\n",
    "print(f_dataset.toks[:2])\n",
    "# model.reset_hooks()\n",
    "mean_dataset = (\n",
    "        f_dataset.gen_flipped_prompts((\"N\", \"RAND\"))\n",
    "    )\n",
    "print(mean_dataset.tokenized_prompts[:2])\n",
    "print(mean_dataset.word_idx['end'][:2])\n",
    "print(mean_dataset.toks[:2])\n",
    "# with torch.no_grad():\n",
    "#     plot_path_patching2(\n",
    "#         model,\n",
    "#         D_new=mean_dataset,\n",
    "#         D_orig=f_dataset,\n",
    "#         receiver_hooks=[(f\"blocks.{model.cfg.n_layers-1}.hook_resid_post\", None)],\n",
    "#         position=\"end\",\n",
    "#         figure_save_dir=figure_save_dir,\n",
    "#         layout='max+1',\n",
    "#         title='logits_llama',\n",
    "#         threshold=1,\n",
    "#         metric='iw',\n",
    "#     )\n",
    "# model.reset_hooks()"
   ]
  },
  {
   "cell_type": "markdown",
   "metadata": {},
   "source": [
    "## Projection of a Head's Outputs"
   ]
  },
  {
   "cell_type": "code",
   "execution_count": 9,
   "metadata": {},
   "outputs": [
    {
     "name": "stdout",
     "output_type": "stream",
     "text": [
      "Warning: There are only 225 unique data sample in dataset\n",
      "Pearson Correlation Coefficient: 0.6737990975379944\n"
     ]
    },
    {
     "data": {
      "application/vnd.plotly.v1+json": {
       "config": {
        "plotlyServerURL": "https://plot.ly"
       },
       "data": [
        {
         "customdata": [
          [
           "We confirm that USA's capital is Washington"
          ],
          [
           "We confirm that Spain's capital is Madrid"
          ],
          [
           "It's crucial to know that Italy's capital is Rome"
          ],
          [
           "In case you didn't know, Italy's capital is Rome"
          ],
          [
           "Just a reminder, Japan's capital is Tokyo"
          ],
          [
           "It's crucial to know that Australia's capital is Canberra"
          ],
          [
           "I am sure that China's capital is Beijing"
          ],
          [
           "Without a doubt, France's capital is Paris"
          ],
          [
           "In case you didn't know, Austria's capital is Vienna"
          ],
          [
           "Just a reminder, Spain's capital is Madrid"
          ],
          [
           "To emphasize, Russia's capital is Moscow"
          ],
          [
           "Bear in mind, China's capital is Beijing"
          ],
          [
           "Therefore, it's correct to state that USA's capital is Washington"
          ],
          [
           "It's crucial to know that Greece's capital is Athens"
          ],
          [
           "Bear in mind, Egypt's capital is Cairo"
          ],
          [
           "According to the textbook, USA's capital is Washington"
          ],
          [
           "I am sure that Portugal's capital is Lisbon"
          ],
          [
           "We confirm that Greece's capital is Athens"
          ],
          [
           "Just a reminder, Portugal's capital is Lisbon"
          ],
          [
           "Bear in mind, Austria's capital is Vienna"
          ],
          [
           "I am sure that Egypt's capital is Cairo"
          ],
          [
           "It's crucial to know that Japan's capital is Tokyo"
          ],
          [
           "When asked, always remember that China's capital is Beijing"
          ],
          [
           "In case you didn't know, China's capital is Beijing"
          ],
          [
           "You are right to say that Italy's capital is Rome"
          ],
          [
           "When asked, always remember that Australia's capital is Canberra"
          ],
          [
           "To emphasize, China's capital is Beijing"
          ],
          [
           "Just a reminder, Austria's capital is Vienna"
          ],
          [
           "Don't forget, Italy's capital is Rome"
          ],
          [
           "We confirm that China's capital is Beijing"
          ],
          [
           "According to the textbook, Canada's capital is Ottawa"
          ],
          [
           "Keep in mind, Canada's capital is Ottawa"
          ],
          [
           "You are right to say that Canada's capital is Ottawa"
          ],
          [
           "Therefore, it's correct to state that Egypt's capital is Cairo"
          ],
          [
           "We confirm that France's capital is Paris"
          ],
          [
           "Just a reminder, France's capital is Paris"
          ],
          [
           "Bear in mind, Spain's capital is Madrid"
          ],
          [
           "Keep in mind, Greece's capital is Athens"
          ],
          [
           "It's crucial to know that Spain's capital is Madrid"
          ],
          [
           "As we all know, France's capital is Paris"
          ],
          [
           "It's crucial to know that Portugal's capital is Lisbon"
          ],
          [
           "Just a reminder, Greece's capital is Athens"
          ],
          [
           "As we all know, Egypt's capital is Cairo"
          ],
          [
           "Therefore, it's correct to state that Greece's capital is Athens"
          ],
          [
           "According to the textbook, Australia's capital is Canberra"
          ],
          [
           "I am sure that Greece's capital is Athens"
          ],
          [
           "We confirm that Italy's capital is Rome"
          ],
          [
           "To emphasize, England's capital is London"
          ],
          [
           "Therefore, it's correct to state that Italy's capital is Rome"
          ],
          [
           "Therefore, it's correct to state that England's capital is London"
          ],
          [
           "Without a doubt, Austria's capital is Vienna"
          ],
          [
           "To emphasize, Austria's capital is Vienna"
          ],
          [
           "I am sure that Japan's capital is Tokyo"
          ],
          [
           "Don't forget, England's capital is London"
          ],
          [
           "It's crucial to know that Egypt's capital is Cairo"
          ],
          [
           "Bear in mind, France's capital is Paris"
          ],
          [
           "As we all know, China's capital is Beijing"
          ],
          [
           "Bear in mind, Russia's capital is Moscow"
          ],
          [
           "It's crucial to know that England's capital is London"
          ],
          [
           "When asked, always remember that Italy's capital is Rome"
          ],
          [
           "We confirm that Portugal's capital is Lisbon"
          ],
          [
           "As we all know, Russia's capital is Moscow"
          ],
          [
           "To emphasize, Canada's capital is Ottawa"
          ],
          [
           "Keep in mind, Spain's capital is Madrid"
          ],
          [
           "I am sure that France's capital is Paris"
          ],
          [
           "Keep in mind, France's capital is Paris"
          ],
          [
           "Don't forget, Canada's capital is Ottawa"
          ],
          [
           "According to the textbook, Italy's capital is Rome"
          ],
          [
           "Just a reminder, Italy's capital is Rome"
          ],
          [
           "I am sure that England's capital is London"
          ],
          [
           "Without a doubt, China's capital is Beijing"
          ],
          [
           "To emphasize, Greece's capital is Athens"
          ],
          [
           "Therefore, it's correct to state that China's capital is Beijing"
          ],
          [
           "When asked, always remember that Japan's capital is Tokyo"
          ],
          [
           "Keep in mind, Russia's capital is Moscow"
          ],
          [
           "According to the textbook, Spain's capital is Madrid"
          ],
          [
           "I am sure that Canada's capital is Ottawa"
          ],
          [
           "To emphasize, Japan's capital is Tokyo"
          ],
          [
           "Just a reminder, Australia's capital is Canberra"
          ],
          [
           "We confirm that Japan's capital is Tokyo"
          ],
          [
           "You are right to say that Spain's capital is Madrid"
          ],
          [
           "When asked, always remember that England's capital is London"
          ],
          [
           "Just a reminder, USA's capital is Washington"
          ],
          [
           "When asked, always remember that Spain's capital is Madrid"
          ],
          [
           "Keep in mind, Austria's capital is Vienna"
          ],
          [
           "When asked, always remember that Russia's capital is Moscow"
          ],
          [
           "I am sure that USA's capital is Washington"
          ],
          [
           "Without a doubt, Egypt's capital is Cairo"
          ],
          [
           "When asked, always remember that Greece's capital is Athens"
          ],
          [
           "I am sure that Italy's capital is Rome"
          ],
          [
           "As we all know, Portugal's capital is Lisbon"
          ],
          [
           "In case you didn't know, Portugal's capital is Lisbon"
          ],
          [
           "I am sure that Austria's capital is Vienna"
          ],
          [
           "According to the textbook, England's capital is London"
          ],
          [
           "It's crucial to know that France's capital is Paris"
          ],
          [
           "In case you didn't know, England's capital is London"
          ],
          [
           "In case you didn't know, Spain's capital is Madrid"
          ],
          [
           "In case you didn't know, Greece's capital is Athens"
          ],
          [
           "You are right to say that Australia's capital is Canberra"
          ],
          [
           "We confirm that Austria's capital is Vienna"
          ],
          [
           "Therefore, it's correct to state that Thailand's capital is Bangkok"
          ],
          [
           "According to the textbook, China's capital is Beijing"
          ],
          [
           "Bear in mind, Greece's capital is Athens"
          ],
          [
           "According to the textbook, Greece's capital is Athens"
          ],
          [
           "As we all know, USA's capital is Washington"
          ],
          [
           "Therefore, it's correct to state that Australia's capital is Canberra"
          ],
          [
           "It's crucial to know that Austria's capital is Vienna"
          ],
          [
           "As we all know, Thailand's capital is Bangkok"
          ],
          [
           "Bear in mind, Canada's capital is Ottawa"
          ],
          [
           "Just a reminder, Canada's capital is Ottawa"
          ],
          [
           "Without a doubt, Japan's capital is Tokyo"
          ],
          [
           "Without a doubt, Spain's capital is Madrid"
          ],
          [
           "Don't forget, Spain's capital is Madrid"
          ],
          [
           "To emphasize, Australia's capital is Canberra"
          ],
          [
           "When asked, always remember that Canada's capital is Ottawa"
          ],
          [
           "According to the textbook, France's capital is Paris"
          ],
          [
           "Bear in mind, Japan's capital is Tokyo"
          ],
          [
           "You are right to say that Egypt's capital is Cairo"
          ],
          [
           "You are right to say that England's capital is London"
          ],
          [
           "Just a reminder, Russia's capital is Moscow"
          ],
          [
           "As we all know, Greece's capital is Athens"
          ],
          [
           "Therefore, it's correct to state that Canada's capital is Ottawa"
          ],
          [
           "Therefore, it's correct to state that France's capital is Paris"
          ],
          [
           "Just a reminder, Egypt's capital is Cairo"
          ],
          [
           "Bear in mind, Portugal's capital is Lisbon"
          ],
          [
           "As we all know, England's capital is London"
          ],
          [
           "According to the textbook, Thailand's capital is Bangkok"
          ],
          [
           "Bear in mind, Australia's capital is Canberra"
          ],
          [
           "Don't forget, Thailand's capital is Bangkok"
          ],
          [
           "In case you didn't know, USA's capital is Washington"
          ],
          [
           "Without a doubt, Italy's capital is Rome"
          ],
          [
           "When asked, always remember that Egypt's capital is Cairo"
          ],
          [
           "As we all know, Italy's capital is Rome"
          ],
          [
           "Just a reminder, England's capital is London"
          ],
          [
           "In case you didn't know, Japan's capital is Tokyo"
          ],
          [
           "To emphasize, Italy's capital is Rome"
          ],
          [
           "Bear in mind, Thailand's capital is Bangkok"
          ],
          [
           "To emphasize, France's capital is Paris"
          ],
          [
           "Don't forget, Greece's capital is Athens"
          ],
          [
           "Therefore, it's correct to state that Spain's capital is Madrid"
          ],
          [
           "Don't forget, Russia's capital is Moscow"
          ],
          [
           "We confirm that Canada's capital is Ottawa"
          ],
          [
           "To emphasize, Spain's capital is Madrid"
          ],
          [
           "According to the textbook, Austria's capital is Vienna"
          ],
          [
           "You are right to say that China's capital is Beijing"
          ],
          [
           "In case you didn't know, France's capital is Paris"
          ],
          [
           "I am sure that Russia's capital is Moscow"
          ],
          [
           "Therefore, it's correct to state that Russia's capital is Moscow"
          ],
          [
           "Bear in mind, Italy's capital is Rome"
          ],
          [
           "Without a doubt, Russia's capital is Moscow"
          ],
          [
           "When asked, always remember that USA's capital is Washington"
          ],
          [
           "Without a doubt, Australia's capital is Canberra"
          ],
          [
           "Bear in mind, England's capital is London"
          ],
          [
           "Bear in mind, USA's capital is Washington"
          ],
          [
           "When asked, always remember that Portugal's capital is Lisbon"
          ],
          [
           "In case you didn't know, Russia's capital is Moscow"
          ],
          [
           "Keep in mind, Japan's capital is Tokyo"
          ],
          [
           "As we all know, Canada's capital is Ottawa"
          ],
          [
           "Without a doubt, Thailand's capital is Bangkok"
          ],
          [
           "Don't forget, France's capital is Paris"
          ],
          [
           "As we all know, Japan's capital is Tokyo"
          ],
          [
           "Without a doubt, Greece's capital is Athens"
          ],
          [
           "You are right to say that Portugal's capital is Lisbon"
          ],
          [
           "Just a reminder, China's capital is Beijing"
          ],
          [
           "You are right to say that France's capital is Paris"
          ],
          [
           "Therefore, it's correct to state that Austria's capital is Vienna"
          ],
          [
           "To emphasize, Thailand's capital is Bangkok"
          ],
          [
           "As we all know, Australia's capital is Canberra"
          ],
          [
           "It's crucial to know that USA's capital is Washington"
          ],
          [
           "Therefore, it's correct to state that Japan's capital is Tokyo"
          ],
          [
           "In case you didn't know, Canada's capital is Ottawa"
          ],
          [
           "To emphasize, USA's capital is Washington"
          ],
          [
           "You are right to say that Japan's capital is Tokyo"
          ],
          [
           "Keep in mind, USA's capital is Washington"
          ],
          [
           "Without a doubt, England's capital is London"
          ],
          [
           "In case you didn't know, Australia's capital is Canberra"
          ],
          [
           "It's crucial to know that Thailand's capital is Bangkok"
          ],
          [
           "Just a reminder, Thailand's capital is Bangkok"
          ],
          [
           "Without a doubt, USA's capital is Washington"
          ],
          [
           "According to the textbook, Portugal's capital is Lisbon"
          ],
          [
           "Keep in mind, England's capital is London"
          ],
          [
           "Don't forget, Japan's capital is Tokyo"
          ],
          [
           "In case you didn't know, Thailand's capital is Bangkok"
          ],
          [
           "As we all know, Austria's capital is Vienna"
          ],
          [
           "We confirm that Thailand's capital is Bangkok"
          ],
          [
           "Keep in mind, Egypt's capital is Cairo"
          ],
          [
           "Keep in mind, Thailand's capital is Bangkok"
          ],
          [
           "To emphasize, Portugal's capital is Lisbon"
          ],
          [
           "It's crucial to know that Russia's capital is Moscow"
          ],
          [
           "Keep in mind, Portugal's capital is Lisbon"
          ],
          [
           "I am sure that Spain's capital is Madrid"
          ],
          [
           "Therefore, it's correct to state that Portugal's capital is Lisbon"
          ],
          [
           "Without a doubt, Canada's capital is Ottawa"
          ],
          [
           "You are right to say that USA's capital is Washington"
          ],
          [
           "I am sure that Thailand's capital is Bangkok"
          ],
          [
           "When asked, always remember that France's capital is Paris"
          ],
          [
           "I am sure that Australia's capital is Canberra"
          ],
          [
           "Keep in mind, Italy's capital is Rome"
          ],
          [
           "According to the textbook, Egypt's capital is Cairo"
          ],
          [
           "You are right to say that Russia's capital is Moscow"
          ],
          [
           "According to the textbook, Russia's capital is Moscow"
          ],
          [
           "We confirm that Australia's capital is Canberra"
          ],
          [
           "You are right to say that Greece's capital is Athens"
          ],
          [
           "Don't forget, Portugal's capital is Lisbon"
          ],
          [
           "We confirm that Russia's capital is Moscow"
          ],
          [
           "Don't forget, Egypt's capital is Cairo"
          ],
          [
           "In case you didn't know, Egypt's capital is Cairo"
          ],
          [
           "When asked, always remember that Thailand's capital is Bangkok"
          ],
          [
           "To emphasize, Egypt's capital is Cairo"
          ],
          [
           "It's crucial to know that China's capital is Beijing"
          ],
          [
           "Without a doubt, Portugal's capital is Lisbon"
          ],
          [
           "Don't forget, Australia's capital is Canberra"
          ],
          [
           "You are right to say that Austria's capital is Vienna"
          ],
          [
           "According to the textbook, Japan's capital is Tokyo"
          ],
          [
           "It's crucial to know that Canada's capital is Ottawa"
          ],
          [
           "Keep in mind, China's capital is Beijing"
          ],
          [
           "Don't forget, Austria's capital is Vienna"
          ],
          [
           "When asked, always remember that Austria's capital is Vienna"
          ],
          [
           "As we all know, Spain's capital is Madrid"
          ],
          [
           "We confirm that Egypt's capital is Cairo"
          ],
          [
           "You are right to say that Thailand's capital is Bangkok"
          ],
          [
           "Don't forget, China's capital is Beijing"
          ],
          [
           "Keep in mind, Australia's capital is Canberra"
          ],
          [
           "Don't forget, USA's capital is Washington"
          ],
          [
           "We confirm that England's capital is London"
          ]
         ],
         "hovertemplate": "Name Type=N<br>Attn Prob on Name=%{x}<br>Dot w Name Embed=%{y}<br>text=%{customdata[0]}<extra></extra>",
         "legendgroup": "N",
         "marker": {
          "color": "rgb(201,165,247)",
          "symbol": "circle"
         },
         "mode": "markers",
         "name": "N",
         "orientation": "v",
         "showlegend": true,
         "type": "scatter",
         "x": [
          0.34745076298713684,
          0.42820027470588684,
          0.2936815023422241,
          0.31347042322158813,
          0.432434618473053,
          0.2375319004058838,
          0.42522740364074707,
          0.38873934745788574,
          0.7197966575622559,
          0.4484017789363861,
          0.48445209860801697,
          0.2722282111644745,
          0.4802234172821045,
          0.5318613052368164,
          0.3286314010620117,
          0.3917040228843689,
          0.4755116105079651,
          0.66773921251297,
          0.6381223201751709,
          0.6137135028839111,
          0.5847203135490417,
          0.3003503084182739,
          0.5281215906143188,
          0.36391380429267883,
          0.3495882451534271,
          0.27480584383010864,
          0.3402244448661804,
          0.7157672643661499,
          0.34460997581481934,
          0.3755418062210083,
          0.31750795245170593,
          0.2404409497976303,
          0.3708554804325104,
          0.6680185198783875,
          0.3316342830657959,
          0.2606102526187897,
          0.4402872323989868,
          0.6189605593681335,
          0.3736264705657959,
          0.3640702962875366,
          0.5525873899459839,
          0.6674913167953491,
          0.5373672246932983,
          0.6856222748756409,
          0.37781772017478943,
          0.7091772556304932,
          0.503950834274292,
          0.3561766445636749,
          0.5134380459785461,
          0.5730711221694946,
          0.5879976153373718,
          0.601539671421051,
          0.3523508608341217,
          0.29569029808044434,
          0.3940686583518982,
          0.26045602560043335,
          0.46905240416526794,
          0.5036541223526001,
          0.2489153891801834,
          0.3887014091014862,
          0.6317909955978394,
          0.6233552694320679,
          0.3088301420211792,
          0.46758732199668884,
          0.3519795835018158,
          0.2804211676120758,
          0.23662789165973663,
          0.5557158589363098,
          0.37336957454681396,
          0.24133755266666412,
          0.37355974316596985,
          0.5466379523277283,
          0.5286409854888916,
          0.45997023582458496,
          0.5784478187561035,
          0.625218391418457,
          0.3205670118331909,
          0.3760332465171814,
          0.23782622814178467,
          0.5663915872573853,
          0.3944265842437744,
          0.4438696801662445,
          0.278372198343277,
          0.5274816751480103,
          0.6331685781478882,
          0.571631669998169,
          0.3574516773223877,
          0.38775816559791565,
          0.6622782349586487,
          0.3557772934436798,
          0.5303683280944824,
          0.5472798347473145,
          0.4676080644130707,
          0.5574571490287781,
          0.2573126554489136,
          0.3080665171146393,
          0.42576050758361816,
          0.5978826284408569,
          0.3619488775730133,
          0.655238687992096,
          0.011176064610481262,
          0.40540221333503723,
          0.5430893301963806,
          0.7713394165039062,
          0.3229054808616638,
          0.3165380358695984,
          0.5392525792121887,
          0.01832951232790947,
          0.22329528629779816,
          0.2234455794095993,
          0.4234798848628998,
          0.3664326071739197,
          0.48566949367523193,
          0.27139610052108765,
          0.3121064007282257,
          0.46014878153800964,
          0.35715678334236145,
          0.4820980429649353,
          0.25581109523773193,
          0.4998376965522766,
          0.6996603012084961,
          0.48122045397758484,
          0.3563530445098877,
          0.6026270985603333,
          0.4856310486793518,
          0.3443905711174011,
          0.0036273777950555086,
          0.17171770334243774,
          0.006979987025260925,
          0.2346375435590744,
          0.35086295008659363,
          0.5715749263763428,
          0.36582642793655396,
          0.30313700437545776,
          0.3582017123699188,
          0.31690293550491333,
          0.011087908409535885,
          0.25845104455947876,
          0.5646870732307434,
          0.6950161457061768,
          0.4847581684589386,
          0.3657759130001068,
          0.40971362590789795,
          0.7340898513793945,
          0.39501723647117615,
          0.28668642044067383,
          0.6792128682136536,
          0.7052122354507446,
          0.3465271294116974,
          0.4825208783149719,
          0.4215407073497772,
          0.3309236168861389,
          0.37633392214775085,
          0.28300464153289795,
          0.5833210945129395,
          0.4781838357448578,
          0.4184950590133667,
          0.25169724225997925,
          0.003159430343657732,
          0.2564563751220703,
          0.41262003779411316,
          0.35350915789604187,
          0.5186822414398193,
          0.35487687587738037,
          0.2690088450908661,
          0.722389817237854,
          0.01986098475754261,
          0.2651248574256897,
          0.29389792680740356,
          0.5177954435348511,
          0.2468753159046173,
          0.29121482372283936,
          0.43382906913757324,
          0.31343579292297363,
          0.2921193242073059,
          0.21653041243553162,
          0.016188574954867363,
          0.006053120829164982,
          0.1908806711435318,
          0.7009863257408142,
          0.39502355456352234,
          0.4159775674343109,
          0.005194514524191618,
          0.7227115631103516,
          0.013898801989853382,
          0.4354477822780609,
          0.015185080468654633,
          0.4642567038536072,
          0.5108619928359985,
          0.5446844696998596,
          0.3382142186164856,
          0.6821557283401489,
          0.387888640165329,
          0.3023023307323456,
          0.015058201737701893,
          0.35621029138565063,
          0.48393160104751587,
          0.35414940118789673,
          0.629386305809021,
          0.589766800403595,
          0.5533853769302368,
          0.30603235960006714,
          0.6727169156074524,
          0.5692193508148193,
          0.6412740349769592,
          0.536480188369751,
          0.4730701148509979,
          0.010170924477279186,
          0.3976261615753174,
          0.3165673017501831,
          0.44195884466171265,
          0.2189764380455017,
          0.6045020818710327,
          0.4016343951225281,
          0.213541179895401,
          0.33307117223739624,
          0.6802750825881958,
          0.630858838558197,
          0.4285639226436615,
          0.6213722229003906,
          0.01144005823880434,
          0.3747044503688812,
          0.19974370300769806,
          0.32907596230506897,
          0.27751174569129944
         ],
         "xaxis": "x",
         "y": [
          1.2551472187042236,
          2.017150640487671,
          1.93413245677948,
          2.2383148670196533,
          2.1165430545806885,
          1.806028127670288,
          2.1107900142669678,
          2.0707993507385254,
          1.9728095531463623,
          2.0805158615112305,
          2.3587515354156494,
          1.5949172973632812,
          1.353987455368042,
          1.9054388999938965,
          0.9992531538009644,
          1.2041890621185303,
          1.701285481452942,
          2.537287950515747,
          2.2312865257263184,
          1.7540584802627563,
          1.6399484872817993,
          1.5922390222549438,
          2.700216054916382,
          2.159479856491089,
          2.2036190032958984,
          1.8630281686782837,
          1.989184021949768,
          1.9171462059020996,
          2.0043716430664062,
          2.320984363555908,
          2.061433792114258,
          1.9056750535964966,
          2.5528993606567383,
          1.8471252918243408,
          2.031529664993286,
          1.6256123781204224,
          2.1090214252471924,
          2.3314149379730225,
          1.7327886819839478,
          2.174449920654297,
          1.8010026216506958,
          2.501007080078125,
          1.641791582107544,
          2.597630739212036,
          2.2558772563934326,
          2.5984082221984863,
          2.7856032848358154,
          1.955216646194458,
          2.583505153656006,
          2.2298407554626465,
          1.684478521347046,
          1.7830466032028198,
          1.7085908651351929,
          1.5557173490524292,
          1.1121996641159058,
          1.682915449142456,
          2.493037700653076,
          2.4626128673553467,
          1.5005202293395996,
          2.1420648097991943,
          2.0593814849853516,
          2.973938465118408,
          2.3082275390625,
          2.127581834793091,
          1.8831422328948975,
          1.7777469158172607,
          1.954166293144226,
          2.806502342224121,
          2.184587001800537,
          1.1447099447250366,
          2.0500106811523438,
          2.1741323471069336,
          2.5759899616241455,
          2.183518409729004,
          2.6265478134155273,
          2.559183120727539,
          2.2548656463623047,
          1.950556755065918,
          1.8446834087371826,
          2.499849319458008,
          2.0015790462493896,
          2.145003318786621,
          1.0007812976837158,
          2.4230384826660156,
          1.7576245069503784,
          2.708780288696289,
          1.1244163513183594,
          1.1549853086471558,
          2.6012918949127197,
          1.9010087251663208,
          2.050159215927124,
          2.0421950817108154,
          1.381906270980835,
          2.6207587718963623,
          1.502358317375183,
          1.8719499111175537,
          2.012434720993042,
          2.443943500518799,
          2.308339834213257,
          1.8295607566833496,
          0.7235036492347717,
          2.0156359672546387,
          2.187072992324829,
          2.797858715057373,
          1.1508926153182983,
          1.844444990158081,
          1.5399572849273682,
          0.6792032718658447,
          1.9327490329742432,
          2.0580334663391113,
          1.9976054430007935,
          1.7192727327346802,
          2.235130548477173,
          2.014965772628784,
          2.2573180198669434,
          2.143587589263916,
          1.8143484592437744,
          1.4677695035934448,
          1.3407492637634277,
          2.429264783859253,
          2.9127509593963623,
          2.582345962524414,
          1.7831629514694214,
          1.7592337131500244,
          1.804045557975769,
          1.9993871450424194,
          0.71364426612854,
          1.3697967529296875,
          0.7070242762565613,
          0.9317309856414795,
          2.1669516563415527,
          1.5678648948669434,
          2.4686596393585205,
          1.643566608428955,
          1.7987293004989624,
          2.0228919982910156,
          0.5235559344291687,
          1.6905503273010254,
          2.1664717197418213,
          2.7638907432556152,
          2.4033613204956055,
          2.449946165084839,
          1.9531410932540894,
          2.011861801147461,
          2.156848430633545,
          1.7973748445510864,
          2.840200424194336,
          2.9208648204803467,
          2.126168966293335,
          2.34790301322937,
          1.2586231231689453,
          2.273928165435791,
          1.8723396062850952,
          0.9628999829292297,
          2.0804266929626465,
          2.3943395614624023,
          2.042677402496338,
          2.3372232913970947,
          0.5599502325057983,
          1.5218349695205688,
          2.0631399154663086,
          1.4728456735610962,
          1.961948037147522,
          2.0522937774658203,
          1.7819019556045532,
          1.9701566696166992,
          0.5455469489097595,
          2.150660753250122,
          0.9766523838043213,
          2.257201910018921,
          2.2641539573669434,
          1.0305532217025757,
          2.1752638816833496,
          0.980658769607544,
          1.6028634309768677,
          1.8413478136062622,
          0.5098368525505066,
          0.7043647766113281,
          0.8409672975540161,
          2.356609344482422,
          2.094879150390625,
          2.038724660873413,
          0.6414979696273804,
          2.0847036838531494,
          0.6806398034095764,
          1.2335383892059326,
          0.6205278038978577,
          1.8089313507080078,
          2.221510648727417,
          2.0026051998138428,
          1.5551875829696655,
          2.2438204288482666,
          2.638360023498535,
          1.0240015983581543,
          0.5241715908050537,
          1.920371651649475,
          2.789994239807129,
          2.130768060684204,
          1.6048779487609863,
          2.619584560394287,
          2.546656608581543,
          2.009530782699585,
          2.7143096923828125,
          2.0617287158966064,
          2.8912127017974854,
          1.5445789098739624,
          1.4410961866378784,
          0.6380906701087952,
          1.2341986894607544,
          1.6540107727050781,
          1.7435405254364014,
          1.5938323736190796,
          1.7831695079803467,
          1.9032901525497437,
          1.8928700685501099,
          1.872557282447815,
          1.8748869895935059,
          1.880104422569275,
          2.1258983612060547,
          1.723055124282837,
          0.6127315163612366,
          2.0649025440216064,
          1.5399030447006226,
          1.1033382415771484,
          1.4114186763763428
         ],
         "yaxis": "y"
        }
       ],
       "layout": {
        "legend": {
         "title": {
          "text": "Name Type"
         },
         "tracegroupgap": 0
        },
        "template": {
         "data": {
          "bar": [
           {
            "error_x": {
             "color": "#2a3f5f"
            },
            "error_y": {
             "color": "#2a3f5f"
            },
            "marker": {
             "line": {
              "color": "#E5ECF6",
              "width": 0.5
             },
             "pattern": {
              "fillmode": "overlay",
              "size": 10,
              "solidity": 0.2
             }
            },
            "type": "bar"
           }
          ],
          "barpolar": [
           {
            "marker": {
             "line": {
              "color": "#E5ECF6",
              "width": 0.5
             },
             "pattern": {
              "fillmode": "overlay",
              "size": 10,
              "solidity": 0.2
             }
            },
            "type": "barpolar"
           }
          ],
          "carpet": [
           {
            "aaxis": {
             "endlinecolor": "#2a3f5f",
             "gridcolor": "white",
             "linecolor": "white",
             "minorgridcolor": "white",
             "startlinecolor": "#2a3f5f"
            },
            "baxis": {
             "endlinecolor": "#2a3f5f",
             "gridcolor": "white",
             "linecolor": "white",
             "minorgridcolor": "white",
             "startlinecolor": "#2a3f5f"
            },
            "type": "carpet"
           }
          ],
          "choropleth": [
           {
            "colorbar": {
             "outlinewidth": 0,
             "ticks": ""
            },
            "type": "choropleth"
           }
          ],
          "contour": [
           {
            "colorbar": {
             "outlinewidth": 0,
             "ticks": ""
            },
            "colorscale": [
             [
              0,
              "#0d0887"
             ],
             [
              0.1111111111111111,
              "#46039f"
             ],
             [
              0.2222222222222222,
              "#7201a8"
             ],
             [
              0.3333333333333333,
              "#9c179e"
             ],
             [
              0.4444444444444444,
              "#bd3786"
             ],
             [
              0.5555555555555556,
              "#d8576b"
             ],
             [
              0.6666666666666666,
              "#ed7953"
             ],
             [
              0.7777777777777778,
              "#fb9f3a"
             ],
             [
              0.8888888888888888,
              "#fdca26"
             ],
             [
              1,
              "#f0f921"
             ]
            ],
            "type": "contour"
           }
          ],
          "contourcarpet": [
           {
            "colorbar": {
             "outlinewidth": 0,
             "ticks": ""
            },
            "type": "contourcarpet"
           }
          ],
          "heatmap": [
           {
            "colorbar": {
             "outlinewidth": 0,
             "ticks": ""
            },
            "colorscale": [
             [
              0,
              "#0d0887"
             ],
             [
              0.1111111111111111,
              "#46039f"
             ],
             [
              0.2222222222222222,
              "#7201a8"
             ],
             [
              0.3333333333333333,
              "#9c179e"
             ],
             [
              0.4444444444444444,
              "#bd3786"
             ],
             [
              0.5555555555555556,
              "#d8576b"
             ],
             [
              0.6666666666666666,
              "#ed7953"
             ],
             [
              0.7777777777777778,
              "#fb9f3a"
             ],
             [
              0.8888888888888888,
              "#fdca26"
             ],
             [
              1,
              "#f0f921"
             ]
            ],
            "type": "heatmap"
           }
          ],
          "heatmapgl": [
           {
            "colorbar": {
             "outlinewidth": 0,
             "ticks": ""
            },
            "colorscale": [
             [
              0,
              "#0d0887"
             ],
             [
              0.1111111111111111,
              "#46039f"
             ],
             [
              0.2222222222222222,
              "#7201a8"
             ],
             [
              0.3333333333333333,
              "#9c179e"
             ],
             [
              0.4444444444444444,
              "#bd3786"
             ],
             [
              0.5555555555555556,
              "#d8576b"
             ],
             [
              0.6666666666666666,
              "#ed7953"
             ],
             [
              0.7777777777777778,
              "#fb9f3a"
             ],
             [
              0.8888888888888888,
              "#fdca26"
             ],
             [
              1,
              "#f0f921"
             ]
            ],
            "type": "heatmapgl"
           }
          ],
          "histogram": [
           {
            "marker": {
             "pattern": {
              "fillmode": "overlay",
              "size": 10,
              "solidity": 0.2
             }
            },
            "type": "histogram"
           }
          ],
          "histogram2d": [
           {
            "colorbar": {
             "outlinewidth": 0,
             "ticks": ""
            },
            "colorscale": [
             [
              0,
              "#0d0887"
             ],
             [
              0.1111111111111111,
              "#46039f"
             ],
             [
              0.2222222222222222,
              "#7201a8"
             ],
             [
              0.3333333333333333,
              "#9c179e"
             ],
             [
              0.4444444444444444,
              "#bd3786"
             ],
             [
              0.5555555555555556,
              "#d8576b"
             ],
             [
              0.6666666666666666,
              "#ed7953"
             ],
             [
              0.7777777777777778,
              "#fb9f3a"
             ],
             [
              0.8888888888888888,
              "#fdca26"
             ],
             [
              1,
              "#f0f921"
             ]
            ],
            "type": "histogram2d"
           }
          ],
          "histogram2dcontour": [
           {
            "colorbar": {
             "outlinewidth": 0,
             "ticks": ""
            },
            "colorscale": [
             [
              0,
              "#0d0887"
             ],
             [
              0.1111111111111111,
              "#46039f"
             ],
             [
              0.2222222222222222,
              "#7201a8"
             ],
             [
              0.3333333333333333,
              "#9c179e"
             ],
             [
              0.4444444444444444,
              "#bd3786"
             ],
             [
              0.5555555555555556,
              "#d8576b"
             ],
             [
              0.6666666666666666,
              "#ed7953"
             ],
             [
              0.7777777777777778,
              "#fb9f3a"
             ],
             [
              0.8888888888888888,
              "#fdca26"
             ],
             [
              1,
              "#f0f921"
             ]
            ],
            "type": "histogram2dcontour"
           }
          ],
          "mesh3d": [
           {
            "colorbar": {
             "outlinewidth": 0,
             "ticks": ""
            },
            "type": "mesh3d"
           }
          ],
          "parcoords": [
           {
            "line": {
             "colorbar": {
              "outlinewidth": 0,
              "ticks": ""
             }
            },
            "type": "parcoords"
           }
          ],
          "pie": [
           {
            "automargin": true,
            "type": "pie"
           }
          ],
          "scatter": [
           {
            "fillpattern": {
             "fillmode": "overlay",
             "size": 10,
             "solidity": 0.2
            },
            "type": "scatter"
           }
          ],
          "scatter3d": [
           {
            "line": {
             "colorbar": {
              "outlinewidth": 0,
              "ticks": ""
             }
            },
            "marker": {
             "colorbar": {
              "outlinewidth": 0,
              "ticks": ""
             }
            },
            "type": "scatter3d"
           }
          ],
          "scattercarpet": [
           {
            "marker": {
             "colorbar": {
              "outlinewidth": 0,
              "ticks": ""
             }
            },
            "type": "scattercarpet"
           }
          ],
          "scattergeo": [
           {
            "marker": {
             "colorbar": {
              "outlinewidth": 0,
              "ticks": ""
             }
            },
            "type": "scattergeo"
           }
          ],
          "scattergl": [
           {
            "marker": {
             "colorbar": {
              "outlinewidth": 0,
              "ticks": ""
             }
            },
            "type": "scattergl"
           }
          ],
          "scattermapbox": [
           {
            "marker": {
             "colorbar": {
              "outlinewidth": 0,
              "ticks": ""
             }
            },
            "type": "scattermapbox"
           }
          ],
          "scatterpolar": [
           {
            "marker": {
             "colorbar": {
              "outlinewidth": 0,
              "ticks": ""
             }
            },
            "type": "scatterpolar"
           }
          ],
          "scatterpolargl": [
           {
            "marker": {
             "colorbar": {
              "outlinewidth": 0,
              "ticks": ""
             }
            },
            "type": "scatterpolargl"
           }
          ],
          "scatterternary": [
           {
            "marker": {
             "colorbar": {
              "outlinewidth": 0,
              "ticks": ""
             }
            },
            "type": "scatterternary"
           }
          ],
          "surface": [
           {
            "colorbar": {
             "outlinewidth": 0,
             "ticks": ""
            },
            "colorscale": [
             [
              0,
              "#0d0887"
             ],
             [
              0.1111111111111111,
              "#46039f"
             ],
             [
              0.2222222222222222,
              "#7201a8"
             ],
             [
              0.3333333333333333,
              "#9c179e"
             ],
             [
              0.4444444444444444,
              "#bd3786"
             ],
             [
              0.5555555555555556,
              "#d8576b"
             ],
             [
              0.6666666666666666,
              "#ed7953"
             ],
             [
              0.7777777777777778,
              "#fb9f3a"
             ],
             [
              0.8888888888888888,
              "#fdca26"
             ],
             [
              1,
              "#f0f921"
             ]
            ],
            "type": "surface"
           }
          ],
          "table": [
           {
            "cells": {
             "fill": {
              "color": "#EBF0F8"
             },
             "line": {
              "color": "white"
             }
            },
            "header": {
             "fill": {
              "color": "#C8D4E3"
             },
             "line": {
              "color": "white"
             }
            },
            "type": "table"
           }
          ]
         },
         "layout": {
          "annotationdefaults": {
           "arrowcolor": "#2a3f5f",
           "arrowhead": 0,
           "arrowwidth": 1
          },
          "autotypenumbers": "strict",
          "coloraxis": {
           "colorbar": {
            "outlinewidth": 0,
            "ticks": ""
           }
          },
          "colorscale": {
           "diverging": [
            [
             0,
             "#8e0152"
            ],
            [
             0.1,
             "#c51b7d"
            ],
            [
             0.2,
             "#de77ae"
            ],
            [
             0.3,
             "#f1b6da"
            ],
            [
             0.4,
             "#fde0ef"
            ],
            [
             0.5,
             "#f7f7f7"
            ],
            [
             0.6,
             "#e6f5d0"
            ],
            [
             0.7,
             "#b8e186"
            ],
            [
             0.8,
             "#7fbc41"
            ],
            [
             0.9,
             "#4d9221"
            ],
            [
             1,
             "#276419"
            ]
           ],
           "sequential": [
            [
             0,
             "#0d0887"
            ],
            [
             0.1111111111111111,
             "#46039f"
            ],
            [
             0.2222222222222222,
             "#7201a8"
            ],
            [
             0.3333333333333333,
             "#9c179e"
            ],
            [
             0.4444444444444444,
             "#bd3786"
            ],
            [
             0.5555555555555556,
             "#d8576b"
            ],
            [
             0.6666666666666666,
             "#ed7953"
            ],
            [
             0.7777777777777778,
             "#fb9f3a"
            ],
            [
             0.8888888888888888,
             "#fdca26"
            ],
            [
             1,
             "#f0f921"
            ]
           ],
           "sequentialminus": [
            [
             0,
             "#0d0887"
            ],
            [
             0.1111111111111111,
             "#46039f"
            ],
            [
             0.2222222222222222,
             "#7201a8"
            ],
            [
             0.3333333333333333,
             "#9c179e"
            ],
            [
             0.4444444444444444,
             "#bd3786"
            ],
            [
             0.5555555555555556,
             "#d8576b"
            ],
            [
             0.6666666666666666,
             "#ed7953"
            ],
            [
             0.7777777777777778,
             "#fb9f3a"
            ],
            [
             0.8888888888888888,
             "#fdca26"
            ],
            [
             1,
             "#f0f921"
            ]
           ]
          },
          "colorway": [
           "#636efa",
           "#EF553B",
           "#00cc96",
           "#ab63fa",
           "#FFA15A",
           "#19d3f3",
           "#FF6692",
           "#B6E880",
           "#FF97FF",
           "#FECB52"
          ],
          "font": {
           "color": "#2a3f5f"
          },
          "geo": {
           "bgcolor": "white",
           "lakecolor": "white",
           "landcolor": "#E5ECF6",
           "showlakes": true,
           "showland": true,
           "subunitcolor": "white"
          },
          "hoverlabel": {
           "align": "left"
          },
          "hovermode": "closest",
          "mapbox": {
           "style": "light"
          },
          "paper_bgcolor": "white",
          "plot_bgcolor": "#E5ECF6",
          "polar": {
           "angularaxis": {
            "gridcolor": "white",
            "linecolor": "white",
            "ticks": ""
           },
           "bgcolor": "#E5ECF6",
           "radialaxis": {
            "gridcolor": "white",
            "linecolor": "white",
            "ticks": ""
           }
          },
          "scene": {
           "xaxis": {
            "backgroundcolor": "#E5ECF6",
            "gridcolor": "white",
            "gridwidth": 2,
            "linecolor": "white",
            "showbackground": true,
            "ticks": "",
            "zerolinecolor": "white"
           },
           "yaxis": {
            "backgroundcolor": "#E5ECF6",
            "gridcolor": "white",
            "gridwidth": 2,
            "linecolor": "white",
            "showbackground": true,
            "ticks": "",
            "zerolinecolor": "white"
           },
           "zaxis": {
            "backgroundcolor": "#E5ECF6",
            "gridcolor": "white",
            "gridwidth": 2,
            "linecolor": "white",
            "showbackground": true,
            "ticks": "",
            "zerolinecolor": "white"
           }
          },
          "shapedefaults": {
           "line": {
            "color": "#2a3f5f"
           }
          },
          "ternary": {
           "aaxis": {
            "gridcolor": "white",
            "linecolor": "white",
            "ticks": ""
           },
           "baxis": {
            "gridcolor": "white",
            "linecolor": "white",
            "ticks": ""
           },
           "bgcolor": "#E5ECF6",
           "caxis": {
            "gridcolor": "white",
            "linecolor": "white",
            "ticks": ""
           }
          },
          "title": {
           "x": 0.05
          },
          "xaxis": {
           "automargin": true,
           "gridcolor": "white",
           "linecolor": "white",
           "ticks": "",
           "title": {
            "standoff": 15
           },
           "zerolinecolor": "white",
           "zerolinewidth": 2
          },
          "yaxis": {
           "automargin": true,
           "gridcolor": "white",
           "linecolor": "white",
           "ticks": "",
           "title": {
            "standoff": 15
           },
           "zerolinecolor": "white",
           "zerolinewidth": 2
          }
         }
        },
        "title": {
         "text": "How Strong 19.8 Writes in the Name Embed Direction Relative to Attn Prob"
        },
        "xaxis": {
         "anchor": "y",
         "domain": [
          0,
          1
         ],
         "title": {
          "text": "Attn Prob on Name"
         }
        },
        "yaxis": {
         "anchor": "x",
         "domain": [
          0,
          1
         ],
         "title": {
          "text": "Dot w Name Embed"
         }
        }
       }
      },
      "text/html": [
       "<div>                            <div id=\"c5d90fbf-355a-4d3f-b9c2-d64508f644b4\" class=\"plotly-graph-div\" style=\"height:525px; width:100%;\"></div>            <script type=\"text/javascript\">                require([\"plotly\"], function(Plotly) {                    window.PLOTLYENV=window.PLOTLYENV || {};                                    if (document.getElementById(\"c5d90fbf-355a-4d3f-b9c2-d64508f644b4\")) {                    Plotly.newPlot(                        \"c5d90fbf-355a-4d3f-b9c2-d64508f644b4\",                        [{\"customdata\":[[\"We confirm that USA's capital is Washington\"],[\"We confirm that Spain's capital is Madrid\"],[\"It's crucial to know that Italy's capital is Rome\"],[\"In case you didn't know, Italy's capital is Rome\"],[\"Just a reminder, Japan's capital is Tokyo\"],[\"It's crucial to know that Australia's capital is Canberra\"],[\"I am sure that China's capital is Beijing\"],[\"Without a doubt, France's capital is Paris\"],[\"In case you didn't know, Austria's capital is Vienna\"],[\"Just a reminder, Spain's capital is Madrid\"],[\"To emphasize, Russia's capital is Moscow\"],[\"Bear in mind, China's capital is Beijing\"],[\"Therefore, it's correct to state that USA's capital is Washington\"],[\"It's crucial to know that Greece's capital is Athens\"],[\"Bear in mind, Egypt's capital is Cairo\"],[\"According to the textbook, USA's capital is Washington\"],[\"I am sure that Portugal's capital is Lisbon\"],[\"We confirm that Greece's capital is Athens\"],[\"Just a reminder, Portugal's capital is Lisbon\"],[\"Bear in mind, Austria's capital is Vienna\"],[\"I am sure that Egypt's capital is Cairo\"],[\"It's crucial to know that Japan's capital is Tokyo\"],[\"When asked, always remember that China's capital is Beijing\"],[\"In case you didn't know, China's capital is Beijing\"],[\"You are right to say that Italy's capital is Rome\"],[\"When asked, always remember that Australia's capital is Canberra\"],[\"To emphasize, China's capital is Beijing\"],[\"Just a reminder, Austria's capital is Vienna\"],[\"Don't forget, Italy's capital is Rome\"],[\"We confirm that China's capital is Beijing\"],[\"According to the textbook, Canada's capital is Ottawa\"],[\"Keep in mind, Canada's capital is Ottawa\"],[\"You are right to say that Canada's capital is Ottawa\"],[\"Therefore, it's correct to state that Egypt's capital is Cairo\"],[\"We confirm that France's capital is Paris\"],[\"Just a reminder, France's capital is Paris\"],[\"Bear in mind, Spain's capital is Madrid\"],[\"Keep in mind, Greece's capital is Athens\"],[\"It's crucial to know that Spain's capital is Madrid\"],[\"As we all know, France's capital is Paris\"],[\"It's crucial to know that Portugal's capital is Lisbon\"],[\"Just a reminder, Greece's capital is Athens\"],[\"As we all know, Egypt's capital is Cairo\"],[\"Therefore, it's correct to state that Greece's capital is Athens\"],[\"According to the textbook, Australia's capital is Canberra\"],[\"I am sure that Greece's capital is Athens\"],[\"We confirm that Italy's capital is Rome\"],[\"To emphasize, England's capital is London\"],[\"Therefore, it's correct to state that Italy's capital is Rome\"],[\"Therefore, it's correct to state that England's capital is London\"],[\"Without a doubt, Austria's capital is Vienna\"],[\"To emphasize, Austria's capital is Vienna\"],[\"I am sure that Japan's capital is Tokyo\"],[\"Don't forget, England's capital is London\"],[\"It's crucial to know that Egypt's capital is Cairo\"],[\"Bear in mind, France's capital is Paris\"],[\"As we all know, China's capital is Beijing\"],[\"Bear in mind, Russia's capital is Moscow\"],[\"It's crucial to know that England's capital is London\"],[\"When asked, always remember that Italy's capital is Rome\"],[\"We confirm that Portugal's capital is Lisbon\"],[\"As we all know, Russia's capital is Moscow\"],[\"To emphasize, Canada's capital is Ottawa\"],[\"Keep in mind, Spain's capital is Madrid\"],[\"I am sure that France's capital is Paris\"],[\"Keep in mind, France's capital is Paris\"],[\"Don't forget, Canada's capital is Ottawa\"],[\"According to the textbook, Italy's capital is Rome\"],[\"Just a reminder, Italy's capital is Rome\"],[\"I am sure that England's capital is London\"],[\"Without a doubt, China's capital is Beijing\"],[\"To emphasize, Greece's capital is Athens\"],[\"Therefore, it's correct to state that China's capital is Beijing\"],[\"When asked, always remember that Japan's capital is Tokyo\"],[\"Keep in mind, Russia's capital is Moscow\"],[\"According to the textbook, Spain's capital is Madrid\"],[\"I am sure that Canada's capital is Ottawa\"],[\"To emphasize, Japan's capital is Tokyo\"],[\"Just a reminder, Australia's capital is Canberra\"],[\"We confirm that Japan's capital is Tokyo\"],[\"You are right to say that Spain's capital is Madrid\"],[\"When asked, always remember that England's capital is London\"],[\"Just a reminder, USA's capital is Washington\"],[\"When asked, always remember that Spain's capital is Madrid\"],[\"Keep in mind, Austria's capital is Vienna\"],[\"When asked, always remember that Russia's capital is Moscow\"],[\"I am sure that USA's capital is Washington\"],[\"Without a doubt, Egypt's capital is Cairo\"],[\"When asked, always remember that Greece's capital is Athens\"],[\"I am sure that Italy's capital is Rome\"],[\"As we all know, Portugal's capital is Lisbon\"],[\"In case you didn't know, Portugal's capital is Lisbon\"],[\"I am sure that Austria's capital is Vienna\"],[\"According to the textbook, England's capital is London\"],[\"It's crucial to know that France's capital is Paris\"],[\"In case you didn't know, England's capital is London\"],[\"In case you didn't know, Spain's capital is Madrid\"],[\"In case you didn't know, Greece's capital is Athens\"],[\"You are right to say that Australia's capital is Canberra\"],[\"We confirm that Austria's capital is Vienna\"],[\"Therefore, it's correct to state that Thailand's capital is Bangkok\"],[\"According to the textbook, China's capital is Beijing\"],[\"Bear in mind, Greece's capital is Athens\"],[\"According to the textbook, Greece's capital is Athens\"],[\"As we all know, USA's capital is Washington\"],[\"Therefore, it's correct to state that Australia's capital is Canberra\"],[\"It's crucial to know that Austria's capital is Vienna\"],[\"As we all know, Thailand's capital is Bangkok\"],[\"Bear in mind, Canada's capital is Ottawa\"],[\"Just a reminder, Canada's capital is Ottawa\"],[\"Without a doubt, Japan's capital is Tokyo\"],[\"Without a doubt, Spain's capital is Madrid\"],[\"Don't forget, Spain's capital is Madrid\"],[\"To emphasize, Australia's capital is Canberra\"],[\"When asked, always remember that Canada's capital is Ottawa\"],[\"According to the textbook, France's capital is Paris\"],[\"Bear in mind, Japan's capital is Tokyo\"],[\"You are right to say that Egypt's capital is Cairo\"],[\"You are right to say that England's capital is London\"],[\"Just a reminder, Russia's capital is Moscow\"],[\"As we all know, Greece's capital is Athens\"],[\"Therefore, it's correct to state that Canada's capital is Ottawa\"],[\"Therefore, it's correct to state that France's capital is Paris\"],[\"Just a reminder, Egypt's capital is Cairo\"],[\"Bear in mind, Portugal's capital is Lisbon\"],[\"As we all know, England's capital is London\"],[\"According to the textbook, Thailand's capital is Bangkok\"],[\"Bear in mind, Australia's capital is Canberra\"],[\"Don't forget, Thailand's capital is Bangkok\"],[\"In case you didn't know, USA's capital is Washington\"],[\"Without a doubt, Italy's capital is Rome\"],[\"When asked, always remember that Egypt's capital is Cairo\"],[\"As we all know, Italy's capital is Rome\"],[\"Just a reminder, England's capital is London\"],[\"In case you didn't know, Japan's capital is Tokyo\"],[\"To emphasize, Italy's capital is Rome\"],[\"Bear in mind, Thailand's capital is Bangkok\"],[\"To emphasize, France's capital is Paris\"],[\"Don't forget, Greece's capital is Athens\"],[\"Therefore, it's correct to state that Spain's capital is Madrid\"],[\"Don't forget, Russia's capital is Moscow\"],[\"We confirm that Canada's capital is Ottawa\"],[\"To emphasize, Spain's capital is Madrid\"],[\"According to the textbook, Austria's capital is Vienna\"],[\"You are right to say that China's capital is Beijing\"],[\"In case you didn't know, France's capital is Paris\"],[\"I am sure that Russia's capital is Moscow\"],[\"Therefore, it's correct to state that Russia's capital is Moscow\"],[\"Bear in mind, Italy's capital is Rome\"],[\"Without a doubt, Russia's capital is Moscow\"],[\"When asked, always remember that USA's capital is Washington\"],[\"Without a doubt, Australia's capital is Canberra\"],[\"Bear in mind, England's capital is London\"],[\"Bear in mind, USA's capital is Washington\"],[\"When asked, always remember that Portugal's capital is Lisbon\"],[\"In case you didn't know, Russia's capital is Moscow\"],[\"Keep in mind, Japan's capital is Tokyo\"],[\"As we all know, Canada's capital is Ottawa\"],[\"Without a doubt, Thailand's capital is Bangkok\"],[\"Don't forget, France's capital is Paris\"],[\"As we all know, Japan's capital is Tokyo\"],[\"Without a doubt, Greece's capital is Athens\"],[\"You are right to say that Portugal's capital is Lisbon\"],[\"Just a reminder, China's capital is Beijing\"],[\"You are right to say that France's capital is Paris\"],[\"Therefore, it's correct to state that Austria's capital is Vienna\"],[\"To emphasize, Thailand's capital is Bangkok\"],[\"As we all know, Australia's capital is Canberra\"],[\"It's crucial to know that USA's capital is Washington\"],[\"Therefore, it's correct to state that Japan's capital is Tokyo\"],[\"In case you didn't know, Canada's capital is Ottawa\"],[\"To emphasize, USA's capital is Washington\"],[\"You are right to say that Japan's capital is Tokyo\"],[\"Keep in mind, USA's capital is Washington\"],[\"Without a doubt, England's capital is London\"],[\"In case you didn't know, Australia's capital is Canberra\"],[\"It's crucial to know that Thailand's capital is Bangkok\"],[\"Just a reminder, Thailand's capital is Bangkok\"],[\"Without a doubt, USA's capital is Washington\"],[\"According to the textbook, Portugal's capital is Lisbon\"],[\"Keep in mind, England's capital is London\"],[\"Don't forget, Japan's capital is Tokyo\"],[\"In case you didn't know, Thailand's capital is Bangkok\"],[\"As we all know, Austria's capital is Vienna\"],[\"We confirm that Thailand's capital is Bangkok\"],[\"Keep in mind, Egypt's capital is Cairo\"],[\"Keep in mind, Thailand's capital is Bangkok\"],[\"To emphasize, Portugal's capital is Lisbon\"],[\"It's crucial to know that Russia's capital is Moscow\"],[\"Keep in mind, Portugal's capital is Lisbon\"],[\"I am sure that Spain's capital is Madrid\"],[\"Therefore, it's correct to state that Portugal's capital is Lisbon\"],[\"Without a doubt, Canada's capital is Ottawa\"],[\"You are right to say that USA's capital is Washington\"],[\"I am sure that Thailand's capital is Bangkok\"],[\"When asked, always remember that France's capital is Paris\"],[\"I am sure that Australia's capital is Canberra\"],[\"Keep in mind, Italy's capital is Rome\"],[\"According to the textbook, Egypt's capital is Cairo\"],[\"You are right to say that Russia's capital is Moscow\"],[\"According to the textbook, Russia's capital is Moscow\"],[\"We confirm that Australia's capital is Canberra\"],[\"You are right to say that Greece's capital is Athens\"],[\"Don't forget, Portugal's capital is Lisbon\"],[\"We confirm that Russia's capital is Moscow\"],[\"Don't forget, Egypt's capital is Cairo\"],[\"In case you didn't know, Egypt's capital is Cairo\"],[\"When asked, always remember that Thailand's capital is Bangkok\"],[\"To emphasize, Egypt's capital is Cairo\"],[\"It's crucial to know that China's capital is Beijing\"],[\"Without a doubt, Portugal's capital is Lisbon\"],[\"Don't forget, Australia's capital is Canberra\"],[\"You are right to say that Austria's capital is Vienna\"],[\"According to the textbook, Japan's capital is Tokyo\"],[\"It's crucial to know that Canada's capital is Ottawa\"],[\"Keep in mind, China's capital is Beijing\"],[\"Don't forget, Austria's capital is Vienna\"],[\"When asked, always remember that Austria's capital is Vienna\"],[\"As we all know, Spain's capital is Madrid\"],[\"We confirm that Egypt's capital is Cairo\"],[\"You are right to say that Thailand's capital is Bangkok\"],[\"Don't forget, China's capital is Beijing\"],[\"Keep in mind, Australia's capital is Canberra\"],[\"Don't forget, USA's capital is Washington\"],[\"We confirm that England's capital is London\"]],\"hovertemplate\":\"Name Type=N\\u003cbr\\u003eAttn Prob on Name=%{x}\\u003cbr\\u003eDot w Name Embed=%{y}\\u003cbr\\u003etext=%{customdata[0]}\\u003cextra\\u003e\\u003c\\u002fextra\\u003e\",\"legendgroup\":\"N\",\"marker\":{\"color\":\"rgb(201,165,247)\",\"symbol\":\"circle\"},\"mode\":\"markers\",\"name\":\"N\",\"orientation\":\"v\",\"showlegend\":true,\"x\":[0.34745076298713684,0.42820027470588684,0.2936815023422241,0.31347042322158813,0.432434618473053,0.2375319004058838,0.42522740364074707,0.38873934745788574,0.7197966575622559,0.4484017789363861,0.48445209860801697,0.2722282111644745,0.4802234172821045,0.5318613052368164,0.3286314010620117,0.3917040228843689,0.4755116105079651,0.66773921251297,0.6381223201751709,0.6137135028839111,0.5847203135490417,0.3003503084182739,0.5281215906143188,0.36391380429267883,0.3495882451534271,0.27480584383010864,0.3402244448661804,0.7157672643661499,0.34460997581481934,0.3755418062210083,0.31750795245170593,0.2404409497976303,0.3708554804325104,0.6680185198783875,0.3316342830657959,0.2606102526187897,0.4402872323989868,0.6189605593681335,0.3736264705657959,0.3640702962875366,0.5525873899459839,0.6674913167953491,0.5373672246932983,0.6856222748756409,0.37781772017478943,0.7091772556304932,0.503950834274292,0.3561766445636749,0.5134380459785461,0.5730711221694946,0.5879976153373718,0.601539671421051,0.3523508608341217,0.29569029808044434,0.3940686583518982,0.26045602560043335,0.46905240416526794,0.5036541223526001,0.2489153891801834,0.3887014091014862,0.6317909955978394,0.6233552694320679,0.3088301420211792,0.46758732199668884,0.3519795835018158,0.2804211676120758,0.23662789165973663,0.5557158589363098,0.37336957454681396,0.24133755266666412,0.37355974316596985,0.5466379523277283,0.5286409854888916,0.45997023582458496,0.5784478187561035,0.625218391418457,0.3205670118331909,0.3760332465171814,0.23782622814178467,0.5663915872573853,0.3944265842437744,0.4438696801662445,0.278372198343277,0.5274816751480103,0.6331685781478882,0.571631669998169,0.3574516773223877,0.38775816559791565,0.6622782349586487,0.3557772934436798,0.5303683280944824,0.5472798347473145,0.4676080644130707,0.5574571490287781,0.2573126554489136,0.3080665171146393,0.42576050758361816,0.5978826284408569,0.3619488775730133,0.655238687992096,0.011176064610481262,0.40540221333503723,0.5430893301963806,0.7713394165039062,0.3229054808616638,0.3165380358695984,0.5392525792121887,0.01832951232790947,0.22329528629779816,0.2234455794095993,0.4234798848628998,0.3664326071739197,0.48566949367523193,0.27139610052108765,0.3121064007282257,0.46014878153800964,0.35715678334236145,0.4820980429649353,0.25581109523773193,0.4998376965522766,0.6996603012084961,0.48122045397758484,0.3563530445098877,0.6026270985603333,0.4856310486793518,0.3443905711174011,0.0036273777950555086,0.17171770334243774,0.006979987025260925,0.2346375435590744,0.35086295008659363,0.5715749263763428,0.36582642793655396,0.30313700437545776,0.3582017123699188,0.31690293550491333,0.011087908409535885,0.25845104455947876,0.5646870732307434,0.6950161457061768,0.4847581684589386,0.3657759130001068,0.40971362590789795,0.7340898513793945,0.39501723647117615,0.28668642044067383,0.6792128682136536,0.7052122354507446,0.3465271294116974,0.4825208783149719,0.4215407073497772,0.3309236168861389,0.37633392214775085,0.28300464153289795,0.5833210945129395,0.4781838357448578,0.4184950590133667,0.25169724225997925,0.003159430343657732,0.2564563751220703,0.41262003779411316,0.35350915789604187,0.5186822414398193,0.35487687587738037,0.2690088450908661,0.722389817237854,0.01986098475754261,0.2651248574256897,0.29389792680740356,0.5177954435348511,0.2468753159046173,0.29121482372283936,0.43382906913757324,0.31343579292297363,0.2921193242073059,0.21653041243553162,0.016188574954867363,0.006053120829164982,0.1908806711435318,0.7009863257408142,0.39502355456352234,0.4159775674343109,0.005194514524191618,0.7227115631103516,0.013898801989853382,0.4354477822780609,0.015185080468654633,0.4642567038536072,0.5108619928359985,0.5446844696998596,0.3382142186164856,0.6821557283401489,0.387888640165329,0.3023023307323456,0.015058201737701893,0.35621029138565063,0.48393160104751587,0.35414940118789673,0.629386305809021,0.589766800403595,0.5533853769302368,0.30603235960006714,0.6727169156074524,0.5692193508148193,0.6412740349769592,0.536480188369751,0.4730701148509979,0.010170924477279186,0.3976261615753174,0.3165673017501831,0.44195884466171265,0.2189764380455017,0.6045020818710327,0.4016343951225281,0.213541179895401,0.33307117223739624,0.6802750825881958,0.630858838558197,0.4285639226436615,0.6213722229003906,0.01144005823880434,0.3747044503688812,0.19974370300769806,0.32907596230506897,0.27751174569129944],\"xaxis\":\"x\",\"y\":[1.2551472187042236,2.017150640487671,1.93413245677948,2.2383148670196533,2.1165430545806885,1.806028127670288,2.1107900142669678,2.0707993507385254,1.9728095531463623,2.0805158615112305,2.3587515354156494,1.5949172973632812,1.353987455368042,1.9054388999938965,0.9992531538009644,1.2041890621185303,1.701285481452942,2.537287950515747,2.2312865257263184,1.7540584802627563,1.6399484872817993,1.5922390222549438,2.700216054916382,2.159479856491089,2.2036190032958984,1.8630281686782837,1.989184021949768,1.9171462059020996,2.0043716430664062,2.320984363555908,2.061433792114258,1.9056750535964966,2.5528993606567383,1.8471252918243408,2.031529664993286,1.6256123781204224,2.1090214252471924,2.3314149379730225,1.7327886819839478,2.174449920654297,1.8010026216506958,2.501007080078125,1.641791582107544,2.597630739212036,2.2558772563934326,2.5984082221984863,2.7856032848358154,1.955216646194458,2.583505153656006,2.2298407554626465,1.684478521347046,1.7830466032028198,1.7085908651351929,1.5557173490524292,1.1121996641159058,1.682915449142456,2.493037700653076,2.4626128673553467,1.5005202293395996,2.1420648097991943,2.0593814849853516,2.973938465118408,2.3082275390625,2.127581834793091,1.8831422328948975,1.7777469158172607,1.954166293144226,2.806502342224121,2.184587001800537,1.1447099447250366,2.0500106811523438,2.1741323471069336,2.5759899616241455,2.183518409729004,2.6265478134155273,2.559183120727539,2.2548656463623047,1.950556755065918,1.8446834087371826,2.499849319458008,2.0015790462493896,2.145003318786621,1.0007812976837158,2.4230384826660156,1.7576245069503784,2.708780288696289,1.1244163513183594,1.1549853086471558,2.6012918949127197,1.9010087251663208,2.050159215927124,2.0421950817108154,1.381906270980835,2.6207587718963623,1.502358317375183,1.8719499111175537,2.012434720993042,2.443943500518799,2.308339834213257,1.8295607566833496,0.7235036492347717,2.0156359672546387,2.187072992324829,2.797858715057373,1.1508926153182983,1.844444990158081,1.5399572849273682,0.6792032718658447,1.9327490329742432,2.0580334663391113,1.9976054430007935,1.7192727327346802,2.235130548477173,2.014965772628784,2.2573180198669434,2.143587589263916,1.8143484592437744,1.4677695035934448,1.3407492637634277,2.429264783859253,2.9127509593963623,2.582345962524414,1.7831629514694214,1.7592337131500244,1.804045557975769,1.9993871450424194,0.71364426612854,1.3697967529296875,0.7070242762565613,0.9317309856414795,2.1669516563415527,1.5678648948669434,2.4686596393585205,1.643566608428955,1.7987293004989624,2.0228919982910156,0.5235559344291687,1.6905503273010254,2.1664717197418213,2.7638907432556152,2.4033613204956055,2.449946165084839,1.9531410932540894,2.011861801147461,2.156848430633545,1.7973748445510864,2.840200424194336,2.9208648204803467,2.126168966293335,2.34790301322937,1.2586231231689453,2.273928165435791,1.8723396062850952,0.9628999829292297,2.0804266929626465,2.3943395614624023,2.042677402496338,2.3372232913970947,0.5599502325057983,1.5218349695205688,2.0631399154663086,1.4728456735610962,1.961948037147522,2.0522937774658203,1.7819019556045532,1.9701566696166992,0.5455469489097595,2.150660753250122,0.9766523838043213,2.257201910018921,2.2641539573669434,1.0305532217025757,2.1752638816833496,0.980658769607544,1.6028634309768677,1.8413478136062622,0.5098368525505066,0.7043647766113281,0.8409672975540161,2.356609344482422,2.094879150390625,2.038724660873413,0.6414979696273804,2.0847036838531494,0.6806398034095764,1.2335383892059326,0.6205278038978577,1.8089313507080078,2.221510648727417,2.0026051998138428,1.5551875829696655,2.2438204288482666,2.638360023498535,1.0240015983581543,0.5241715908050537,1.920371651649475,2.789994239807129,2.130768060684204,1.6048779487609863,2.619584560394287,2.546656608581543,2.009530782699585,2.7143096923828125,2.0617287158966064,2.8912127017974854,1.5445789098739624,1.4410961866378784,0.6380906701087952,1.2341986894607544,1.6540107727050781,1.7435405254364014,1.5938323736190796,1.7831695079803467,1.9032901525497437,1.8928700685501099,1.872557282447815,1.8748869895935059,1.880104422569275,2.1258983612060547,1.723055124282837,0.6127315163612366,2.0649025440216064,1.5399030447006226,1.1033382415771484,1.4114186763763428],\"yaxis\":\"y\",\"type\":\"scatter\"}],                        {\"template\":{\"data\":{\"histogram2dcontour\":[{\"type\":\"histogram2dcontour\",\"colorbar\":{\"outlinewidth\":0,\"ticks\":\"\"},\"colorscale\":[[0.0,\"#0d0887\"],[0.1111111111111111,\"#46039f\"],[0.2222222222222222,\"#7201a8\"],[0.3333333333333333,\"#9c179e\"],[0.4444444444444444,\"#bd3786\"],[0.5555555555555556,\"#d8576b\"],[0.6666666666666666,\"#ed7953\"],[0.7777777777777778,\"#fb9f3a\"],[0.8888888888888888,\"#fdca26\"],[1.0,\"#f0f921\"]]}],\"choropleth\":[{\"type\":\"choropleth\",\"colorbar\":{\"outlinewidth\":0,\"ticks\":\"\"}}],\"histogram2d\":[{\"type\":\"histogram2d\",\"colorbar\":{\"outlinewidth\":0,\"ticks\":\"\"},\"colorscale\":[[0.0,\"#0d0887\"],[0.1111111111111111,\"#46039f\"],[0.2222222222222222,\"#7201a8\"],[0.3333333333333333,\"#9c179e\"],[0.4444444444444444,\"#bd3786\"],[0.5555555555555556,\"#d8576b\"],[0.6666666666666666,\"#ed7953\"],[0.7777777777777778,\"#fb9f3a\"],[0.8888888888888888,\"#fdca26\"],[1.0,\"#f0f921\"]]}],\"heatmap\":[{\"type\":\"heatmap\",\"colorbar\":{\"outlinewidth\":0,\"ticks\":\"\"},\"colorscale\":[[0.0,\"#0d0887\"],[0.1111111111111111,\"#46039f\"],[0.2222222222222222,\"#7201a8\"],[0.3333333333333333,\"#9c179e\"],[0.4444444444444444,\"#bd3786\"],[0.5555555555555556,\"#d8576b\"],[0.6666666666666666,\"#ed7953\"],[0.7777777777777778,\"#fb9f3a\"],[0.8888888888888888,\"#fdca26\"],[1.0,\"#f0f921\"]]}],\"heatmapgl\":[{\"type\":\"heatmapgl\",\"colorbar\":{\"outlinewidth\":0,\"ticks\":\"\"},\"colorscale\":[[0.0,\"#0d0887\"],[0.1111111111111111,\"#46039f\"],[0.2222222222222222,\"#7201a8\"],[0.3333333333333333,\"#9c179e\"],[0.4444444444444444,\"#bd3786\"],[0.5555555555555556,\"#d8576b\"],[0.6666666666666666,\"#ed7953\"],[0.7777777777777778,\"#fb9f3a\"],[0.8888888888888888,\"#fdca26\"],[1.0,\"#f0f921\"]]}],\"contourcarpet\":[{\"type\":\"contourcarpet\",\"colorbar\":{\"outlinewidth\":0,\"ticks\":\"\"}}],\"contour\":[{\"type\":\"contour\",\"colorbar\":{\"outlinewidth\":0,\"ticks\":\"\"},\"colorscale\":[[0.0,\"#0d0887\"],[0.1111111111111111,\"#46039f\"],[0.2222222222222222,\"#7201a8\"],[0.3333333333333333,\"#9c179e\"],[0.4444444444444444,\"#bd3786\"],[0.5555555555555556,\"#d8576b\"],[0.6666666666666666,\"#ed7953\"],[0.7777777777777778,\"#fb9f3a\"],[0.8888888888888888,\"#fdca26\"],[1.0,\"#f0f921\"]]}],\"surface\":[{\"type\":\"surface\",\"colorbar\":{\"outlinewidth\":0,\"ticks\":\"\"},\"colorscale\":[[0.0,\"#0d0887\"],[0.1111111111111111,\"#46039f\"],[0.2222222222222222,\"#7201a8\"],[0.3333333333333333,\"#9c179e\"],[0.4444444444444444,\"#bd3786\"],[0.5555555555555556,\"#d8576b\"],[0.6666666666666666,\"#ed7953\"],[0.7777777777777778,\"#fb9f3a\"],[0.8888888888888888,\"#fdca26\"],[1.0,\"#f0f921\"]]}],\"mesh3d\":[{\"type\":\"mesh3d\",\"colorbar\":{\"outlinewidth\":0,\"ticks\":\"\"}}],\"scatter\":[{\"fillpattern\":{\"fillmode\":\"overlay\",\"size\":10,\"solidity\":0.2},\"type\":\"scatter\"}],\"parcoords\":[{\"type\":\"parcoords\",\"line\":{\"colorbar\":{\"outlinewidth\":0,\"ticks\":\"\"}}}],\"scatterpolargl\":[{\"type\":\"scatterpolargl\",\"marker\":{\"colorbar\":{\"outlinewidth\":0,\"ticks\":\"\"}}}],\"bar\":[{\"error_x\":{\"color\":\"#2a3f5f\"},\"error_y\":{\"color\":\"#2a3f5f\"},\"marker\":{\"line\":{\"color\":\"#E5ECF6\",\"width\":0.5},\"pattern\":{\"fillmode\":\"overlay\",\"size\":10,\"solidity\":0.2}},\"type\":\"bar\"}],\"scattergeo\":[{\"type\":\"scattergeo\",\"marker\":{\"colorbar\":{\"outlinewidth\":0,\"ticks\":\"\"}}}],\"scatterpolar\":[{\"type\":\"scatterpolar\",\"marker\":{\"colorbar\":{\"outlinewidth\":0,\"ticks\":\"\"}}}],\"histogram\":[{\"marker\":{\"pattern\":{\"fillmode\":\"overlay\",\"size\":10,\"solidity\":0.2}},\"type\":\"histogram\"}],\"scattergl\":[{\"type\":\"scattergl\",\"marker\":{\"colorbar\":{\"outlinewidth\":0,\"ticks\":\"\"}}}],\"scatter3d\":[{\"type\":\"scatter3d\",\"line\":{\"colorbar\":{\"outlinewidth\":0,\"ticks\":\"\"}},\"marker\":{\"colorbar\":{\"outlinewidth\":0,\"ticks\":\"\"}}}],\"scattermapbox\":[{\"type\":\"scattermapbox\",\"marker\":{\"colorbar\":{\"outlinewidth\":0,\"ticks\":\"\"}}}],\"scatterternary\":[{\"type\":\"scatterternary\",\"marker\":{\"colorbar\":{\"outlinewidth\":0,\"ticks\":\"\"}}}],\"scattercarpet\":[{\"type\":\"scattercarpet\",\"marker\":{\"colorbar\":{\"outlinewidth\":0,\"ticks\":\"\"}}}],\"carpet\":[{\"aaxis\":{\"endlinecolor\":\"#2a3f5f\",\"gridcolor\":\"white\",\"linecolor\":\"white\",\"minorgridcolor\":\"white\",\"startlinecolor\":\"#2a3f5f\"},\"baxis\":{\"endlinecolor\":\"#2a3f5f\",\"gridcolor\":\"white\",\"linecolor\":\"white\",\"minorgridcolor\":\"white\",\"startlinecolor\":\"#2a3f5f\"},\"type\":\"carpet\"}],\"table\":[{\"cells\":{\"fill\":{\"color\":\"#EBF0F8\"},\"line\":{\"color\":\"white\"}},\"header\":{\"fill\":{\"color\":\"#C8D4E3\"},\"line\":{\"color\":\"white\"}},\"type\":\"table\"}],\"barpolar\":[{\"marker\":{\"line\":{\"color\":\"#E5ECF6\",\"width\":0.5},\"pattern\":{\"fillmode\":\"overlay\",\"size\":10,\"solidity\":0.2}},\"type\":\"barpolar\"}],\"pie\":[{\"automargin\":true,\"type\":\"pie\"}]},\"layout\":{\"autotypenumbers\":\"strict\",\"colorway\":[\"#636efa\",\"#EF553B\",\"#00cc96\",\"#ab63fa\",\"#FFA15A\",\"#19d3f3\",\"#FF6692\",\"#B6E880\",\"#FF97FF\",\"#FECB52\"],\"font\":{\"color\":\"#2a3f5f\"},\"hovermode\":\"closest\",\"hoverlabel\":{\"align\":\"left\"},\"paper_bgcolor\":\"white\",\"plot_bgcolor\":\"#E5ECF6\",\"polar\":{\"bgcolor\":\"#E5ECF6\",\"angularaxis\":{\"gridcolor\":\"white\",\"linecolor\":\"white\",\"ticks\":\"\"},\"radialaxis\":{\"gridcolor\":\"white\",\"linecolor\":\"white\",\"ticks\":\"\"}},\"ternary\":{\"bgcolor\":\"#E5ECF6\",\"aaxis\":{\"gridcolor\":\"white\",\"linecolor\":\"white\",\"ticks\":\"\"},\"baxis\":{\"gridcolor\":\"white\",\"linecolor\":\"white\",\"ticks\":\"\"},\"caxis\":{\"gridcolor\":\"white\",\"linecolor\":\"white\",\"ticks\":\"\"}},\"coloraxis\":{\"colorbar\":{\"outlinewidth\":0,\"ticks\":\"\"}},\"colorscale\":{\"sequential\":[[0.0,\"#0d0887\"],[0.1111111111111111,\"#46039f\"],[0.2222222222222222,\"#7201a8\"],[0.3333333333333333,\"#9c179e\"],[0.4444444444444444,\"#bd3786\"],[0.5555555555555556,\"#d8576b\"],[0.6666666666666666,\"#ed7953\"],[0.7777777777777778,\"#fb9f3a\"],[0.8888888888888888,\"#fdca26\"],[1.0,\"#f0f921\"]],\"sequentialminus\":[[0.0,\"#0d0887\"],[0.1111111111111111,\"#46039f\"],[0.2222222222222222,\"#7201a8\"],[0.3333333333333333,\"#9c179e\"],[0.4444444444444444,\"#bd3786\"],[0.5555555555555556,\"#d8576b\"],[0.6666666666666666,\"#ed7953\"],[0.7777777777777778,\"#fb9f3a\"],[0.8888888888888888,\"#fdca26\"],[1.0,\"#f0f921\"]],\"diverging\":[[0,\"#8e0152\"],[0.1,\"#c51b7d\"],[0.2,\"#de77ae\"],[0.3,\"#f1b6da\"],[0.4,\"#fde0ef\"],[0.5,\"#f7f7f7\"],[0.6,\"#e6f5d0\"],[0.7,\"#b8e186\"],[0.8,\"#7fbc41\"],[0.9,\"#4d9221\"],[1,\"#276419\"]]},\"xaxis\":{\"gridcolor\":\"white\",\"linecolor\":\"white\",\"ticks\":\"\",\"title\":{\"standoff\":15},\"zerolinecolor\":\"white\",\"automargin\":true,\"zerolinewidth\":2},\"yaxis\":{\"gridcolor\":\"white\",\"linecolor\":\"white\",\"ticks\":\"\",\"title\":{\"standoff\":15},\"zerolinecolor\":\"white\",\"automargin\":true,\"zerolinewidth\":2},\"scene\":{\"xaxis\":{\"backgroundcolor\":\"#E5ECF6\",\"gridcolor\":\"white\",\"linecolor\":\"white\",\"showbackground\":true,\"ticks\":\"\",\"zerolinecolor\":\"white\",\"gridwidth\":2},\"yaxis\":{\"backgroundcolor\":\"#E5ECF6\",\"gridcolor\":\"white\",\"linecolor\":\"white\",\"showbackground\":true,\"ticks\":\"\",\"zerolinecolor\":\"white\",\"gridwidth\":2},\"zaxis\":{\"backgroundcolor\":\"#E5ECF6\",\"gridcolor\":\"white\",\"linecolor\":\"white\",\"showbackground\":true,\"ticks\":\"\",\"zerolinecolor\":\"white\",\"gridwidth\":2}},\"shapedefaults\":{\"line\":{\"color\":\"#2a3f5f\"}},\"annotationdefaults\":{\"arrowcolor\":\"#2a3f5f\",\"arrowhead\":0,\"arrowwidth\":1},\"geo\":{\"bgcolor\":\"white\",\"landcolor\":\"#E5ECF6\",\"subunitcolor\":\"white\",\"showland\":true,\"showlakes\":true,\"lakecolor\":\"white\"},\"title\":{\"x\":0.05},\"mapbox\":{\"style\":\"light\"}}},\"xaxis\":{\"anchor\":\"y\",\"domain\":[0.0,1.0],\"title\":{\"text\":\"Attn Prob on Name\"}},\"yaxis\":{\"anchor\":\"x\",\"domain\":[0.0,1.0],\"title\":{\"text\":\"Dot w Name Embed\"}},\"legend\":{\"title\":{\"text\":\"Name Type\"},\"tracegroupgap\":0},\"title\":{\"text\":\"How Strong 19.8 Writes in the Name Embed Direction Relative to Attn Prob\"}},                        {\"responsive\": true}                    ).then(function(){\n",
       "                            \n",
       "var gd = document.getElementById('c5d90fbf-355a-4d3f-b9c2-d64508f644b4');\n",
       "var x = new MutationObserver(function (mutations, observer) {{\n",
       "        var display = window.getComputedStyle(gd).display;\n",
       "        if (!display || display === 'none') {{\n",
       "            console.log([gd, 'removed!']);\n",
       "            Plotly.purge(gd);\n",
       "            observer.disconnect();\n",
       "        }}\n",
       "}});\n",
       "\n",
       "// Listen for the removal of the full notebook cells\n",
       "var notebookContainer = gd.closest('#notebook-container');\n",
       "if (notebookContainer) {{\n",
       "    x.observe(notebookContainer, {childList: true});\n",
       "}}\n",
       "\n",
       "// Listen for the clearing of the current output cell\n",
       "var outputEl = gd.closest('.output');\n",
       "if (outputEl) {{\n",
       "    x.observe(outputEl, {childList: true});\n",
       "}}\n",
       "\n",
       "                        })                };                });            </script>        </div>"
      ]
     },
     "metadata": {},
     "output_type": "display_data"
    }
   ],
   "source": [
    "# Writing direction results\n",
    "# (change the layer_no and head_no)\n",
    "from easy_transformer.fact_dataset_llama import (\n",
    "    FactDataset,\n",
    ")\n",
    "f_dataset = FactDataset(\n",
    "    prompt_type=\"NCNC\",\n",
    "    N=1000,\n",
    "    tokenizer=model.tokenizer,\n",
    "    prepend_bos=False,\n",
    "    counterfact=False,\n",
    ")\n",
    "f_dataset = f_dataset#.add_a_shot()#.add_a_shot()#.add_a_shot()\n",
    "\n",
    "scatter_attention_and_contribution(\n",
    "    model=model, layer_no=19, head_no=8, ioi_dataset=f_dataset, figure_save_dir=figure_save_dir,\n",
    ")\n",
    "model.reset_hooks()"
   ]
  },
  {
   "cell_type": "markdown",
   "metadata": {},
   "source": [
    "## The capital probs after each layer at [END] position"
   ]
  },
  {
   "cell_type": "code",
   "execution_count": null,
   "metadata": {},
   "outputs": [],
   "source": []
  },
  {
   "cell_type": "code",
   "execution_count": 3,
   "metadata": {},
   "outputs": [
    {
     "name": "stdout",
     "output_type": "stream",
     "text": [
      "/home/shared/meta-llama/Llama-2-7b-chat-hf\n",
      "[12077, 8314]\n"
     ]
    }
   ],
   "source": [
    "# import matplotlib.pyplot as plt\n",
    "# x_list = []\n",
    "# y_list = []\n",
    "# x_var = []\n",
    "# y_var = []\n",
    "# cache = {}\n",
    "from easy_transformer.fact_dataset_llama import (\n",
    "    FactDataset,\n",
    ")\n",
    "print(model.tokenizer.name_or_path)\n",
    "f_dataset = FactDataset(\n",
    "    prompt_type=\"NCNC\",\n",
    "    N=2,\n",
    "    tokenizer=model.tokenizer,\n",
    "    prepend_bos=False,\n",
    "    counterfact=False,\n",
    ")\n",
    "# f_dataset = f_dataset.add_a_shot()\n",
    "# # f_dataset = f_dataset.add_a_shot().add_a_shot()\n",
    "\n",
    "# print(f_dataset.ioi_prompts[:2])\n",
    "# print(f_dataset.tokenized_prompts[-2:])\n",
    "# print(f_dataset.toks[-2:])\n",
    "# print(f_dataset.word_idx['end'][-2:])\n",
    "# print(f_dataset.word_idx['N'][-2:])\n",
    "# print(f_dataset.word_idx['R'][-2:])\n",
    "print(f_dataset.N_tokenIDs[-2:])\n",
    "# print(f_dataset.IW_tokenIDs[-2:])\n",
    "# print(f_dataset.R_tokenIDs[-2:])"
   ]
  },
  {
   "cell_type": "code",
   "execution_count": 3,
   "metadata": {
    "metadata": {}
   },
   "outputs": [
    {
     "name": "stdout",
     "output_type": "stream",
     "text": [
      "Warning: There are only 225 unique data sample in dataset\n",
      "[\"<s>|Therefore|,|it|'|s|correct|to|state|that|Portugal|'|s|capital|is|Lis|bon|</s>|</s>\", \"<s>|It|'|s|cru|cial|to|know|that|Australia|'|s|capital|is|Can|ber|ra|</s>|</s>\"]\n",
      "layer 0 hook_resid_post\n",
      "layer 1 hook_resid_post\n",
      "layer 2 hook_resid_post\n",
      "layer 3 hook_resid_post\n",
      "layer 4 hook_resid_post\n",
      "layer 5 hook_resid_post\n",
      "layer 6 hook_resid_post\n",
      "layer 7 hook_resid_post\n",
      "layer 8 hook_resid_post\n",
      "layer 9 hook_resid_post\n",
      "layer 10 hook_resid_post\n",
      "layer 11 hook_resid_post\n",
      "layer 12 hook_resid_post\n",
      "layer 13 hook_resid_post\n",
      "layer 14 hook_resid_post\n",
      "layer 15 hook_resid_post\n",
      "layer 16 hook_resid_post\n",
      "layer 17 hook_resid_post\n",
      "layer 18 hook_resid_post\n",
      "layer 19 hook_resid_post\n",
      "layer 20 hook_resid_post\n",
      "layer 21 hook_resid_post\n",
      "layer 22 hook_resid_post\n",
      "layer 23 hook_resid_post\n",
      "layer 24 hook_resid_post\n",
      "layer 25 hook_resid_post\n",
      "layer 26 hook_resid_post\n",
      "layer 27 hook_resid_post\n",
      "layer 28 hook_resid_post\n",
      "layer 29 hook_resid_post\n",
      "layer 30 hook_resid_post\n",
      "layer 31 hook_resid_post\n",
      "[tensor(0.0018), tensor(0.0013), tensor(0.0018), tensor(0.0027), tensor(0.0037), tensor(0.0028), tensor(0.0021), tensor(0.0017), tensor(0.0020), tensor(0.0027), tensor(0.0064), tensor(0.0040), tensor(0.0041), tensor(0.0025), tensor(0.0121), tensor(0.0102), tensor(0.2362), tensor(0.2244), tensor(0.1019), tensor(0.7741), tensor(6.5391), tensor(8.4918), tensor(6.3262), tensor(2.0177), tensor(15.4875), tensor(4.6499), tensor(3.1172), tensor(0.4525), tensor(0.1293), tensor(0.1107), tensor(0.0667), tensor(0.1576)]\n",
      "[tensor(0.0090), tensor(0.0070), tensor(0.0097), tensor(0.0136), tensor(0.0136), tensor(0.0075), tensor(0.0115), tensor(0.0054), tensor(0.0037), tensor(0.0055), tensor(0.0069), tensor(0.0127), tensor(0.0118), tensor(0.0114), tensor(0.0211), tensor(0.0187), tensor(0.2087), tensor(0.8288), tensor(0.5385), tensor(5.8524), tensor(19.3353), tensor(27.9450), tensor(51.2284), tensor(50.9488), tensor(68.7978), tensor(71.1687), tensor(71.9150), tensor(69.7924), tensor(71.2339), tensor(71.3064), tensor(46.3145), tensor(29.1102)]\n",
      "[tensor(0.0017), tensor(0.0020), tensor(0.0018), tensor(0.0029), tensor(0.0073), tensor(0.0049), tensor(0.0024), tensor(0.0020), tensor(0.0033), tensor(0.0040), tensor(0.0134), tensor(0.0088), tensor(0.0066), tensor(0.0040), tensor(0.0207), tensor(0.0172), tensor(1.6987), tensor(0.9653), tensor(0.3025), tensor(2.0397), tensor(17.7071), tensor(22.3324), tensor(19.7394), tensor(6.3913), tensor(30.7298), tensor(14.1072), tensor(9.2857), tensor(1.8172), tensor(0.3207), tensor(0.2787), tensor(0.1947), tensor(0.1178)]\n",
      "[tensor(0.0204), tensor(0.0133), tensor(0.0262), tensor(0.0413), tensor(0.0288), tensor(0.0124), tensor(0.0308), tensor(0.0080), tensor(0.0068), tensor(0.0121), tensor(0.0126), tensor(0.0458), tensor(0.0409), tensor(0.0260), tensor(0.0366), tensor(0.0297), tensor(0.4594), tensor(2.1792), tensor(1.8653), tensor(16.0376), tensor(27.8607), tensor(30.2422), tensor(39.1530), tensor(39.8717), tensor(41.2458), tensor(38.3800), tensor(37.6708), tensor(39.3136), tensor(36.8962), tensor(37.3009), tensor(38.7268), tensor(24.6667)]\n"
     ]
    }
   ],
   "source": [
    "import matplotlib.pyplot as plt\n",
    "x_list = []\n",
    "y_list = []\n",
    "x_var = []\n",
    "y_var = []\n",
    "cache = {}\n",
    "from easy_transformer.fact_dataset_llama import (\n",
    "    FactDataset,\n",
    ")\n",
    "f_dataset = FactDataset(\n",
    "    prompt_type=\"NCNC\",\n",
    "    N=1000,\n",
    "    tokenizer=model.tokenizer,\n",
    "    prepend_bos=False,\n",
    "    counterfact=False,\n",
    ")\n",
    "f_dataset = f_dataset#.add_a_shot()#.add_a_shot()#.add_a_shot()\n",
    "print(f_dataset.tokenized_prompts[:2])\n",
    "model.reset_hooks()\n",
    "\n",
    "model.cache_some(cache, lambda x: \"hook_resid_post\" in x, device='cuda:3') \n",
    "with torch.no_grad():\n",
    "    model(f_dataset.toks.long())\n",
    "    for layer in range(model.cfg.n_layers):\n",
    "        # model.cache_some(cache, lambda x: str(layer) in x, device='cuda:4')\n",
    "        # model(f_dataset.toks.long())\n",
    "        for point in [\"hook_resid_post\"]:\n",
    "            # model.cache_some(cache, lambda x: f\"blocks.{layer}.{point}\" in x, device='cuda:3')\n",
    "            logits = model.unembed(model.ln_final(cache[f\"blocks.{layer}.{point}\"].to('cuda:1')))\n",
    "            k = 10\n",
    "            \n",
    "\n",
    "            x_probs = []\n",
    "            y_probs = []\n",
    "\n",
    "            for seq_idx, prompt in enumerate(f_dataset.ioi_prompts):\n",
    "                \n",
    "                # pred_tokens = [\n",
    "                #         model.tokenizer.decode(token)\n",
    "                #         for token in torch.topk(\n",
    "                #             logits[seq_idx, f_dataset.word_idx['end'][seq_idx]], k\n",
    "                #         ).indices\n",
    "                #     ]\n",
    "                # print(pred_tokens)\n",
    "\n",
    "                probs = torch.softmax(logits[seq_idx, f_dataset.word_idx['end'][seq_idx]], dim=0)\n",
    "                x_probs.append(probs[f_dataset.N_tokenIDs[seq_idx]].detach().float().cpu()* 100)\n",
    "                y_probs.append(probs[f_dataset.IW_tokenIDs[seq_idx]].detach().float()* 100)\n",
    "\n",
    "            # print(logits[torch.arange(f_dataset.N), f_dataset.word_idx['end']][torch.arange(f_dataset.N), f_dataset.IW_tokenIDs].mean())\n",
    "\n",
    "            print(f'layer {layer} {point}')\n",
    "            \n",
    "            x_list.append(torch.mean(torch.tensor(x_probs)))\n",
    "            y_list.append(torch.mean(torch.tensor(y_probs)))\n",
    "            \n",
    "            x_var.append(torch.std(torch.tensor(x_probs)))\n",
    "            y_var.append(torch.std(torch.tensor(y_probs)))\n",
    "        \n",
    "model.reset_hooks()\n",
    "\n",
    "print(x_list)\n",
    "print(y_list)\n",
    "print(x_var)\n",
    "print(y_var)\n",
    "\n",
    "# fig = plt.figure(figsize=(12,8))\n",
    "# plt.plot(range(len(x_list)), x_list, marker='*', label='X', color='#00008B',linewidth=2,) # , c=colors, cmap='viridis'\n",
    "# plt.plot(range(len(x_list)), y_list, marker='*', label='Y', color='#DC143C',linewidth=2,) # , c=colors, cmap='RdBu')\n",
    "# plt.fill_between(range(len(x_list)), [a - b for a, b in zip(x_list, x_var)], [a + b for a, b in zip(x_list, x_var)], color='#00008B', alpha=0.2)\n",
    "# plt.fill_between(range(len(x_list)), [a - b for a, b in zip(y_list, y_var)], [a + b for a, b in zip(y_list, y_var)], color='#DC143C', alpha=0.2)\n",
    "\n",
    "# # plt.legend()\n",
    "# plt.xticks(range(model.cfg.n_layers), fontsize=10)\n",
    "# # fig.savefig('probability-dynamics-llama-chat-0.pdf')\n",
    "# plt.show()"
   ]
  },
  {
   "cell_type": "code",
   "execution_count": 4,
   "metadata": {
    "metadata": {}
   },
   "outputs": [
    {
     "data": {
      "image/png": "[encoded data removed]",
      "text/plain": [
       "<Figure size 1200x800 with 1 Axes>"
      ]
     },
     "metadata": {},
     "output_type": "display_data"
    }
   ],
   "source": [
    "fig = plt.figure(figsize=(12,8))\n",
    "plt.plot(range(len(x_list)), x_list, marker='*', label='X', color='#00008B',linewidth=2,) # , c=colors, cmap='viridis'\n",
    "plt.plot(range(len(x_list)), y_list, marker='*', label='Y', color='#DC143C',linewidth=2,) # , c=colors, cmap='RdBu')\n",
    "plt.fill_between(range(len(x_list)), [a - b for a, b in zip(x_list, x_var)], [a + b for a, b in zip(x_list, x_var)], color='#00008B', alpha=0.2)\n",
    "plt.fill_between(range(len(x_list)), [a - b for a, b in zip(y_list, y_var)], [a + b for a, b in zip(y_list, y_var)], color='#DC143C', alpha=0.2)\n",
    "plt\n",
    "# plt.legend()\n",
    "plt.xticks(range(model.cfg.n_layers), fontsize=14)\n",
    "plt.yticks(fontsize=14)\n",
    "# fig.savefig('probability-dynamics-llama-chat-0.pdf')\n",
    "plt.show()"
   ]
  },
  {
   "cell_type": "markdown",
   "metadata": {},
   "source": [
    "## The head takes in country and output city through OV circuit "
   ]
  },
  {
   "cell_type": "code",
   "execution_count": 17,
   "metadata": {},
   "outputs": [
    {
     "name": "stdout",
     "output_type": "stream",
     "text": [
      "Warning: There are only 225 unique data sample in dataset\n",
      "[{'text': \"To emphasize, Thailand's capital is Bangkok\", 'N': 'Thailand', 'C': 'Bangkok', 'R': 'capital', 'TEMPLATE_IDX': 14, 'IW answer': 'Bangkok'}, {'text': \"We confirm that France's capital is Paris\", 'N': 'France', 'C': 'Paris', 'R': 'capital', 'TEMPLATE_IDX': 4, 'IW answer': 'Paris'}]\n",
      "['Bang', 'Vietnam', 'Georgia', 'Nep', 'Georg', 'Malays', 'Sri', 'Atlanta', 'Ath', 'Greece']\n",
      "['France', 'French', 'France', 'Frankreich', 'rench', 'француз', 'Francia', 'Paris', 'францу', 'französischen']\n",
      "['Vietnam', 'Bang', 'Malays', 'Niger', 'Nep', 'Eth', 'Greek', 'Greece', 'Camb', 'Mexico']\n",
      "['France', 'French', 'France', 'rench', 'Frankreich', 'француз', 'Francia', 'францу', 'Paris', 'französischen']\n",
      "['Spain', 'Spanish', 'Span', 'Span', 'span', 'span', 'España', 'Madrid', 'Espagne', 'españ']\n",
      "['Portugal', 'Portuguese', 'portug', 'Portug', 'Lis', 'Port', 'Port', 'Porto', 'Пор', 'пор']\n",
      "['Egypt', 'gypt', 'egy', 'egy', 'Egy', 'Cleveland', 'airo', 'Ohio', 'py', 'Py']\n",
      "['Spain', 'Spanish', 'Span', 'Span', 'span', 'span', 'España', 'Madrid', 'Espagne', 'españ']\n",
      "['France', 'French', 'France', 'rench', 'Frankreich', 'француз', 'Francia', 'Paris', 'францу', 'französischen']\n",
      "['Spain', 'Spanish', 'Span', 'Span', 'span', 'span', 'España', 'Madrid', 'Espagne', 'españ']\n",
      "['Bang', 'Greek', 'Ath', 'Greece', 'Nep', 'Vietnam', 'Georgia', 'Sri', 'Beng', 'Malays']\n",
      "['Japan', 'Japanese', 'jap', 'Jap', 'Tokyo', 'Japon', '日', 'japon', 'apan', '일']\n",
      "['Bang', 'Malays', 'Nep', 'Ath', 'Sri', 'Greek', 'South', 'Greece', 'Niger', 'Mu']\n",
      "['Australia', 'Australian', 'Austral', 'Austral', 'austral', 'Melbourne', 'ustral', 'Sydney', 'Queensland', 'ав']\n",
      "['France', 'French', 'France', 'rench', 'Frankreich', 'француз', 'Francia', 'Paris', 'францу', 'französischen']\n",
      "['USA', 'USA', 'America', 'Americans', 'American', 'amer', 'US', 'America', 'США', 'American']\n",
      "['Russia', 'Russian', 'Russ', 'Rus', 'Moscow', 'russ', 'Russ', 'rus', 'Russell', 'russe']\n",
      "['Portugal', 'Portuguese', 'portug', 'Portug', 'Lis', 'Port', 'Port', 'Porto', 'Пор', 'пор']\n",
      "['Spain', 'Spanish', 'Span', 'Span', 'span', 'span', 'España', 'Madrid', 'Espagne', 'españ']\n",
      "['Italy', 'Ital', 'Italian', 'ital', 'Italia', 'Ital', 'italien', 'ital', 'Italia', 'Italien']\n",
      "layer 24 head 14 ov\n",
      "tensor(62.1358, device='cuda:0', grad_fn=<DivBackward0>)\n",
      "tensor(28.3515, device='cuda:0', grad_fn=<DivBackward0>)\n"
     ]
    }
   ],
   "source": [
    "from easy_transformer.fact_dataset_llama import (\n",
    "    FactDataset,\n",
    ")\n",
    "f_dataset = FactDataset(\n",
    "    prompt_type=\"NCNC\",\n",
    "    N=1000,\n",
    "    tokenizer=model.tokenizer,\n",
    "    prepend_bos=False,\n",
    "    counterfact=False,\n",
    ")\n",
    "f_dataset = f_dataset#.add_a_shot()#.add_a_shot()#.add_a_shot()\n",
    "\n",
    "def func(dataset):\n",
    "    cache = {}\n",
    "    \n",
    "    for layer in [24]:\n",
    "        model.cache_some(cache, lambda x: x == f\"blocks.{layer}.hook_resid_pre\", device='cuda:3') \n",
    "        model(dataset.toks.long())\n",
    "        model.blocks[layer].ln1.to('cuda:1')\n",
    "        z_0 = model.blocks[layer].ln1(cache[f\"blocks.{layer}.hook_resid_pre\"].to('cuda:1'))#.to('cuda:1')\n",
    "        # [batch pos d_model]\n",
    "        # for head in range(model.cfg.n_heads):\n",
    "        \n",
    "        head = 14\n",
    "        \n",
    "        w_v = model.blocks[layer].attn.v_proj.weight.to('cuda:1').reshape(model.cfg.n_heads, model.cfg.d_head, -1).transpose(1,2)[head]\n",
    "        # [d_model, d_head]\n",
    "\n",
    "        v = torch.einsum(\"eab,bc->eac\", z_0, w_v)\n",
    "        # v += model.blocks[layer].attn.b_V[head].unsqueeze(0).unsqueeze(0)\n",
    "        w_o = model.blocks[layer].attn.out_proj.weight.to('cuda:1').reshape(model.cfg.d_model, -1, model.cfg.d_head).transpose(0, 1)[head]\n",
    "        # [d_model, d_head]\n",
    "        o = torch.einsum(\"sph,dh->spd\", v, w_o)\n",
    "        model.ln_final.to('cuda:0')\n",
    "        model.unembed.to('cuda:0')\n",
    "        logits = model.unembed(model.ln_final(o.to('cuda:0')))\n",
    "\n",
    "        k = 10\n",
    "        for seq_idx, prompt in enumerate(dataset.ioi_prompts[:20]):\n",
    "            pred_tokens = [\n",
    "                    model.tokenizer.decode(token)\n",
    "                    for token in torch.topk(\n",
    "                        logits[seq_idx, dataset.word_idx['N'][seq_idx]], k\n",
    "                    ).indices\n",
    "                ]\n",
    "            # print(prompt)\n",
    "            print(pred_tokens)\n",
    "\n",
    "        ic_probs = 0\n",
    "        in_probs = 0\n",
    "        iw_probs = 0\n",
    "\n",
    "        for seq_idx, prompt in enumerate(dataset.ioi_prompts):\n",
    "            probs = logits[seq_idx, dataset.word_idx['N'][seq_idx]]\n",
    "            in_probs += probs[dataset.N_tokenIDs[seq_idx]]\n",
    "            iw_probs += probs[dataset.IW_tokenIDs[seq_idx]]\n",
    "\n",
    "        print(f'layer {layer} head {head} ov')\n",
    "        print(in_probs / dataset.N)\n",
    "        print(iw_probs / dataset.N)\n",
    "\n",
    "print(f_dataset.ioi_prompts[:2])\n",
    "func(f_dataset)\n",
    "\n",
    "model.reset_hooks()"
   ]
  },
  {
   "cell_type": "code",
   "execution_count": null,
   "metadata": {},
   "outputs": [],
   "source": []
  },
  {
   "cell_type": "markdown",
   "metadata": {},
   "source": [
    "## linear regression"
   ]
  },
  {
   "cell_type": "code",
   "execution_count": 6,
   "metadata": {
    "metadata": {}
   },
   "outputs": [
    {
     "name": "stdout",
     "output_type": "stream",
     "text": [
      "Warning: There are only 225 unique data sample in dataset\n"
     ]
    },
    {
     "name": "stderr",
     "output_type": "stream",
     "text": [
      "100%|██████████| 60000/60000 [00:33<00:00, 1785.89it/s]\n"
     ]
    },
    {
     "name": "stdout",
     "output_type": "stream",
     "text": [
      "layer 23\n",
      "tensor(0.0474, device='cuda:0', grad_fn=<MseLossBackward0>)\n",
      "tensor([ 0.9842,  0.6636,  0.5232,  0.0864, -0.0688,  0.7507, -0.1709,  0.9557,\n",
      "         0.9131,  0.6968, -0.0151,  0.2713, -0.1202,  0.5458,  0.2360, -0.1036,\n",
      "         0.1955,  0.0505, -0.0597,  0.0452,  0.1732,  0.6208,  0.1229,  0.5619,\n",
      "         0.5980,  0.0535,  0.6315,  0.6369, -0.0177,  0.6642, -0.0439,  0.8610,\n",
      "         0.0314], device='cuda:0', grad_fn=<ViewBackward0>)\n",
      "tensor(0.0120, device='cuda:0', grad_fn=<DivBackward0>)\n"
     ]
    }
   ],
   "source": [
    "from sklearn.decomposition import PCA\n",
    "import matplotlib.pyplot as plt\n",
    "import torch.nn.functional as F\n",
    "import numpy as np\n",
    "from tqdm import tqdm\n",
    "from easy_transformer.fact_dataset_llama import (\n",
    "    FactDataset,\n",
    ")\n",
    "def train(dataset, layer_idx, pos, i, k):\n",
    "\n",
    "    div_size = dataset.N // k\n",
    "    train_dataset = FactDataset(prompt_type=\"NCNC\", tokenizer=model.tokenizer,prompts=dataset.ioi_prompts[:div_size * i] + dataset.ioi_prompts[div_size * (i+1):])\n",
    "    test_dataset = None\n",
    "    if k > 1:\n",
    "        test_dataset = FactDataset(prompt_type=\"NCNC\", tokenizer=model.tokenizer,  prompts=dataset.ioi_prompts[div_size * i : div_size * (i+1)])\n",
    "    cache = {}\n",
    "\n",
    "    model.cache_some(cache, lambda x: f\"blocks.{layer_idx}\" in x, device='cuda:3')\n",
    "   \n",
    "    model(train_dataset.toks.long())\n",
    "    \n",
    "    x = []\n",
    "\n",
    "    y = cache[f'blocks.{layer_idx}.hook_mlp_out'][torch.arange(train_dataset.N), train_dataset.word_idx[pos]].detach().to('cuda:0')\n",
    "    resid_pre = cache[f'blocks.{layer_idx}.hook_resid_pre'].to('cuda:0') \n",
    "    \n",
    "    for head in range(model.cfg.n_heads):\n",
    "        attn_out = cache[f'blocks.{layer_idx}.attn.hook_result'][:,:,head].to('cuda:0') # [225, seq, head_num, 4096]\n",
    "        # print(attn_out.shape)\n",
    "        tmp = attn_out[torch.arange(train_dataset.N), train_dataset.word_idx[pos]].detach()\n",
    "        # print(tmp.shape) \n",
    "        x.append(tmp) \n",
    "\n",
    "    tmp = resid_pre[torch.arange(train_dataset.N), train_dataset.word_idx[pos]].detach() # [225 4096]\n",
    "    \n",
    "    x.append(tmp) #[]\n",
    "\n",
    "    # x.append(model.blocks[layer_idx].attn.b_O.unsqueeze(0).repeat(train_dataset.N, 1).to('cuda:0')) #b_O is omitted in paper because this is a model-specific term.\n",
    "\n",
    "    x = torch.stack(x, dim=0) # [33 225 4096] # 13, 100, 768\n",
    "\n",
    "    # y = \\sum hi + resid_pre + M(\\sum hi) \\approx \\sum wi hi + wr resid_pre\n",
    "\n",
    "    from torch.optim import SGD\n",
    "    loss = torch.nn.MSELoss(reduction='mean')\n",
    "    weight = torch.tensor(torch.ones(x.shape[0], 1, 1), device='cuda', requires_grad=True)\n",
    "    bias = torch.tensor(torch.zeros(x.shape[-1]), device='cuda', requires_grad=True)\n",
    "\n",
    "    optimizer = SGD([weight, bias], lr=5e-3, momentum=0.99)\n",
    "    steps = 60000\n",
    "    best_l = 999\n",
    "    best_w = None\n",
    "    best_b = None\n",
    "    best_error = 0\n",
    "    for i in tqdm(range(steps)):\n",
    "        optimizer.zero_grad()\n",
    "        l = loss((weight * x).sum(dim=0) + bias, y)\n",
    "        l.backward()\n",
    "        optimizer.step()\n",
    "        if i % 100 == 0:\n",
    "            if l < best_l:\n",
    "                best_l = l\n",
    "                best_w = weight.view(-1)\n",
    "                best_error = torch.sqrt(best_l) / torch.norm(y, dim=-1).mean(0)\n",
    "                best_b = bias\n",
    "    print(f'layer {layer_idx}')\n",
    "    print(best_l)\n",
    "    print(best_w.view(-1))\n",
    "    print(best_error)\n",
    "    del cache, x\n",
    "\n",
    "    tensor_save_dir = f'saved_tensors/nation_fact/{model.cfg.model_name}'\n",
    "    os.makedirs(tensor_save_dir, exist_ok=True) \n",
    "\n",
    "    torch.save(best_b, f'{tensor_save_dir}/layer{layer_idx}-bias-pos{pos}.pt')\n",
    "\n",
    "    if test_dataset:\n",
    "        cache = {}\n",
    "        model.cache_all(cache,device='cuda:3')\n",
    "        model(test_dataset.toks.long())\n",
    "        x = []\n",
    "        y = cache[f'blocks.{layer_idx}.hook_mlp_out'][torch.arange(test_dataset.N), test_dataset.word_idx[pos]].detach()\n",
    "        resid_pre = cache[f'blocks.{layer_idx}.hook_resid_pre']\n",
    "        for head in range(model.cfg.n_heads):\n",
    "            attn_out = cache[f'blocks.{layer_idx}.attn.hook_result'][:,:,head]\n",
    "            x.append(attn_out[torch.arange(test_dataset.N), test_dataset.word_idx[pos]].detach())\n",
    "        x.append(resid_pre[torch.arange(test_dataset.N), test_dataset.word_idx[pos]].detach())\n",
    "        # x.append(model.blocks[layer_idx].attn.b_O.unsqueeze(0).repeat(test_dataset.N, 1))\n",
    "        x = torch.stack(x, dim=0) # 13, 100, 4096\n",
    "        print('test loss: ', loss((weight * x).sum(dim=0) + bias, y))\n",
    "        del cache, x\n",
    "\n",
    "f_dataset = FactDataset(\n",
    "    prompt_type=\"NCNC\",\n",
    "    N=1000,\n",
    "    tokenizer=model.tokenizer,\n",
    "    prepend_bos=False,\n",
    "    counterfact=False,\n",
    ")\n",
    "\n",
    "# for i in range(4): # 4-fold\n",
    "#     train(f_dataset, layer_idx=11, pos='end', i=i, k=4)\n",
    "for idx in [23]:\n",
    "    train(f_dataset, layer_idx=idx, pos='end', i=1, k=1) # one-fold\n",
    "    model.reset_hooks()\n"
   ]
  },
  {
   "cell_type": "markdown",
   "metadata": {},
   "source": [
    "## 用拟合的系数模拟mlp，对比模拟的mlp和原本mlp的差别"
   ]
  },
  {
   "cell_type": "code",
   "execution_count": null,
   "metadata": {},
   "outputs": [],
   "source": [
    "pos = 'end'\n",
    "end_weights = {'end': torch.tensor([\n",
    "            [-0.3778, 0.9958, -0.2921, 0.2115, -0.5219, 1.4215, -0.3252, -0.2877,  0.3062, -0.0167, -0.1202, -0.4430, -0.0062, 1.3332],  # 0, \n",
    "            [-0.2421, -0.3286, -0.4107, -0.4428, -0.3211, -0.7429, -0.6300, -0.4886,  -0.4656, -0.7584, -0.3896, -0.4697, -0.1551, 0.3200], # 1 \n",
    "            [-0.2933, -0.4398, -0.2285, -0.2141, -0.2279, -0.0900, -0.2096, -0.1632,  -0.2610, -0.2997, -0.2742, -0.2601, -0.0950, -0.2256],  # 2\n",
    "            [-0.7560, -0.1242, -0.1355, 0.0232, -0.5973, -0.2991, -0.1133, -0.1518,  -0.1182, -0.3953, -0.0024, -0.2150, -0.0496, -0.5916], # 3\n",
    "            [ 0.1806, -0.3129, -0.2375, -0.0230, -0.2580, -0.3304, -0.1971, -0.1036,  -0.4408, -0.2970, -0.1990, -0.0452, -0.0516, -0.7870],  # 4\n",
    "            [-0.4658, 0.0244, -0.0608, -0.1969, -0.2394, -0.7087, -0.2687, -0.1716,  -0.0244, -0.2759, -0.1846, 0.0645, -0.1284, -0.3789], # 5\n",
    "            [-0.3550, -0.3395, -0.1759, -0.2013, -0.2027, -0.2461, -0.1557, -0.2122,  -0.2105, -0.6289, -0.0471, -0.2553, -0.0870, -0.6657], # 6\n",
    "            [ 0.2620, -0.2187, 0.7925, -0.0600, -0.1395, -0.1094, 0.0183, -0.2693,  0.0841, -0.1203, -0.1932, -1.4702, -0.0678, -0.3834],  # 7\n",
    "            [ 0.0077, -0.9276, -0.0434, -0.0907, -0.0201, -0.0216, -0.3901, 0.1726,  0.0927, -0.1214, -0.1611, -0.1246, -0.0216, 0.8440], # 8\n",
    "            [-0.0535, -0.2456, 0.0458, 0.0066, -0.2320, -0.1226, -0.1727, -0.0306,  0.0757, -0.0934, -0.0753, -0.6449, 0.0566, 1.3823], # 9\n",
    "            [-7.4195e-02, 7.2448e-02, -8.9567e-02, 1.5036e-01, -1.0521e+00,  -1.6935e-01, -1.1128e-01, -9.3926e-02, -9.4067e-01, -4.8869e-01,  3.5116e-03, -3.3442e-01, 9.9636e-02, 7.2961e+00],\n",
    "            [-0.2244, 0.7351, -0.1053, -0.3125, -0.0516, 1.5537, 0.5440, 0.4152,  0.1306, 0.9774, 0.1323, 0.2206, 0.0079, 2.5818], # 11\n",
    "        ]).cuda(),\n",
    "    }\n",
    "\n",
    "f_dataset = FactDataset(\n",
    "    prompt_type=\"NCNC\",\n",
    "    N=1000,\n",
    "    tokenizer=model.tokenizer,\n",
    "    prepend_bos=False,\n",
    "    counterfact=False,\n",
    ")\n",
    "\n",
    "with torch.no_grad():\n",
    "    embed = model.embed(f_dataset.toks.long())\n",
    "    pos_embed = model.pos_embed(f_dataset.toks.long(), )\n",
    "    residual = embed + pos_embed\n",
    "\n",
    "    cache = {}\n",
    "    model.cache_all(cache) \n",
    "    model(f_dataset.toks.long(),)\n",
    "\n",
    "    from torch.optim import SGD\n",
    "    loss = torch.nn.MSELoss(reduction='mean')\n",
    "\n",
    "    device = 'cuda:0'\n",
    "    for i in range(model.cfg.n_layers):\n",
    "        if i > model.cfg.n_layers // 2:\n",
    "            residual = residual.to('cuda:1')\n",
    "            device = 'cuda:1'\n",
    "        residual_pre = residual.clone()\n",
    "\n",
    "        attn_out = model.blocks[i].attn(\n",
    "                    residual,\n",
    "                    no_reduce=True\n",
    "                ) # B, L, n_head, dim\n",
    "        \n",
    "        residual_mid = residual_pre + attn_out.sum(-2) #+ model.blocks[i].attn.b_O\n",
    "\n",
    "        terms = torch.concat([attn_out[torch.arange(f_dataset.N), f_dataset.word_idx[pos]].permute(1, 0, 2), \n",
    "                            residual_pre[torch.arange(f_dataset.N), f_dataset.word_idx[pos]].unsqueeze(0)\n",
    "                            ], dim=0) #model.blocks[i].attn.b_O.unsqueeze(0).repeat(f_dataset.N, 1).unsqueeze(0)\n",
    "        \n",
    "        bias = torch.load(f'{tensor_save_dir}/layer{i}-bias-pos{pos}.pt')\n",
    "\n",
    "        terms = end_weights[pos][i][:, None, None].to(device) * terms\n",
    "\n",
    "        mlp_out = model.blocks[i].mlp(\n",
    "                    model.blocks[i].ln2(residual_mid),\n",
    "                )\n",
    "\n",
    "        # l = loss(mlp_out[torch.arange(f_dataset.N), f_dataset.word_idx[pos]], terms.permute(1, 0, 2).sum(1) + bias)\n",
    "        # print(l) # assert lr is good \n",
    "\n",
    "        mlp_out[torch.arange(f_dataset.N), f_dataset.word_idx[pos]] = terms.permute(1, 0, 2).sum(1) + bias.to(device)\n",
    "        \n",
    "        residual = residual_mid + mlp_out\n",
    "\n",
    "    residual = model.ln_final(residual)  # [batch, pos, d_vocab]\n",
    "    logits_manual = model.unembed(residual.to('cuda:0'))  # [batch, pos, d_vocab]\n",
    "    IW_logits_manual = logits_manual[\n",
    "                torch.arange(len(f_dataset)),\n",
    "                f_dataset.word_idx[\"end\"],\n",
    "                f_dataset.IW_tokenIDs,\n",
    "            ]\n",
    "    print(IW_logits_manual.mean())\n",
    "\n",
    "\n",
    "    logits_ori = model(f_dataset.toks.long())\n",
    "    IW_logits_ori = logits_ori[\n",
    "                torch.arange(len(f_dataset)),\n",
    "                f_dataset.word_idx[\"end\"],\n",
    "                f_dataset.IW_tokenIDs,\n",
    "            ]\n",
    "    print(IW_logits_ori.mean())\n",
    "\n",
    "    import torch.nn.functional as F\n",
    "    probs_ori = F.softmax(logits_ori, dim=-1)\n",
    "    probs_manual = F.softmax(logits_manual, dim=-1)\n",
    "    kl_div = F.kl_div(probs_ori.log(), probs_manual, reduction='batchmean')\n",
    "    print(kl_div)\n",
    "model.reset_hooks()"
   ]
  },
  {
   "cell_type": "markdown",
   "metadata": {},
   "source": [
    "## to project intercept to hyperplane"
   ]
  },
  {
   "cell_type": "code",
   "execution_count": 4,
   "metadata": {
    "metadata": {}
   },
   "outputs": [
    {
     "name": "stdout",
     "output_type": "stream",
     "text": [
      "Warning: There are only 225 unique data sample in dataset\n",
      "layer 19\n",
      "torch.Size([225, 4096])\n",
      "torch.Size([225, 4096])\n",
      "torch.Size([4096])\n",
      "post @ iw:  tensor(9.6011)\n",
      "post @ n:  tensor(7.8805)\n",
      "post <-> iw:  tensor(0.0892)\n",
      "post <-> n:  tensor(0.0789)\n",
      "mid <-> iw:  tensor(0.0840)\n",
      "mid <-> n:  tensor(0.0884)\n",
      "mlp <-> iw:  tensor(0.0308)\n",
      "mlp <-> n:  tensor(-0.0120)\n",
      "tensor(0.8156)\n"
     ]
    }
   ],
   "source": [
    "from sklearn.decomposition import PCA\n",
    "import plotly.graph_objs as go\n",
    "import torch.nn.functional as F\n",
    "from fancy_einsum import einsum\n",
    "\n",
    "layer_idx = 19\n",
    "\n",
    "f_dataset = FactDataset(\n",
    "    prompt_type=\"NCNC\",\n",
    "    N=1000,\n",
    "    tokenizer=model.tokenizer,\n",
    "    prepend_bos=False,\n",
    "    counterfact=False,\n",
    ")\n",
    "\n",
    "cache = {}\n",
    "with torch.no_grad():\n",
    "    model.cache_some(cache, lambda x: str(layer_idx) in x, device='cuda:3')\n",
    "    model(f_dataset.toks.long())\n",
    "\n",
    "    print(f'layer {layer_idx}')\n",
    "    model.ln_final.to(\"cuda:0\")\n",
    "    resid_mid = model.ln_final(cache[f'blocks.{layer_idx}.hook_resid_mid'].to(\"cuda:0\"))[torch.arange(f_dataset.N), f_dataset.word_idx['end']].detach().cpu()\n",
    "    model.ln_final.to(\"cuda:2\")\n",
    "    mlp_out = model.ln_final(cache[f'blocks.{layer_idx}.hook_mlp_out'].to(\"cuda:2\"))[torch.arange(f_dataset.N), f_dataset.word_idx['end']].detach().cpu()\n",
    "    model.ln_final.to(\"cuda:3\")\n",
    "    resid_post = model.ln_final(cache[f'blocks.{layer_idx}.hook_resid_post'].to(\"cuda:3\"))[torch.arange(f_dataset.N), f_dataset.word_idx['end']].detach().cpu()\n",
    "    print(resid_post.shape)\n",
    "    logit_n = model.unembed.output_projection.weight[f_dataset.N_tokenIDs].detach().cpu() #.unsqueeze(0).repeat(f_dataset.N, 1, 1)\n",
    "    \n",
    "    logit_iw = model.unembed.output_projection.weight[f_dataset.IW_tokenIDs].detach().cpu() #.unsqueeze(0).repeat(f_dataset.N, 1, 1)\n",
    "    print(logit_n.shape)\n",
    "    bias = torch.load(f'{tensor_save_dir}/layer{layer_idx}-bias-posend.pt').cpu()\n",
    "    print(bias.shape)\n",
    "    print('post @ iw: ', einsum('b d, b d -> b', resid_post, logit_iw).mean(0))\n",
    "    print('post @ n: ', einsum('b d, b d -> b', resid_post, logit_n).mean(0))\n",
    "    print('post <-> iw: ', F.cosine_similarity(resid_post, logit_iw, dim=-1).mean(0))\n",
    "    print('post <-> n: ', F.cosine_similarity(resid_post, logit_n, dim=-1).mean(0))\n",
    "\n",
    "    print('mid <-> iw: ', F.cosine_similarity(resid_mid, logit_iw, dim=-1).mean(0))\n",
    "    print('mid <-> n: ', F.cosine_similarity(resid_mid, logit_n, dim=-1).mean(0))\n",
    "    \n",
    "    print('mlp <-> iw: ', F.cosine_similarity(mlp_out, logit_iw, dim=-1).mean(0))\n",
    "    print('mlp <-> n: ', F.cosine_similarity(mlp_out, logit_n, dim=-1).mean(0))\n",
    "   \n",
    "    sim = 0\n",
    "    for i in range(f_dataset.N):\n",
    "        M = torch.column_stack((logit_iw[i], logit_n[i]))\n",
    "        # print(torch.linalg.matrix_rank(M)) # rank must be 2\n",
    "        P = M @ torch.linalg.inv(M.T @ M) @ M.T\n",
    "        A_proj = P @ bias\n",
    "        sim += F.cosine_similarity(A_proj,  logit_iw[i] - logit_n[i], dim=0)  # - logit_n[i]\n",
    "\n",
    "    print(sim / f_dataset.N)\n",
    "\n",
    "model.reset_hooks()"
   ]
  },
  {
   "cell_type": "markdown",
   "metadata": {},
   "source": [
    "## To examine b^{11}  llama can't calculate"
   ]
  },
  {
   "cell_type": "code",
   "execution_count": 6,
   "metadata": {
    "metadata": {}
   },
   "outputs": [
    {
     "name": "stdout",
     "output_type": "stream",
     "text": [
      "Warning: There are only 225 unique data sample in dataset\n"
     ]
    },
    {
     "name": "stderr",
     "output_type": "stream",
     "text": [
      "  0%|          | 76/50154 [00:00<00:55, 896.61it/s]\n"
     ]
    },
    {
     "ename": "IndexError",
     "evalue": "index 44697 is out of bounds for dimension 1 with size 32000",
     "output_type": "error",
     "traceback": [
      "\u001b[0;31m---------------------------------------------------------------------------\u001b[0m",
      "\u001b[0;31mIndexError\u001b[0m                                Traceback (most recent call last)",
      "Cell \u001b[0;32mIn[6], line 43\u001b[0m\n\u001b[1;32m     41\u001b[0m \u001b[38;5;28;01mfor\u001b[39;00m tok \u001b[38;5;129;01min\u001b[39;00m tqdm(freq_counter\u001b[38;5;241m.\u001b[39mitems()):\n\u001b[1;32m     42\u001b[0m     alpha \u001b[38;5;241m+\u001b[39m\u001b[38;5;241m=\u001b[39m tok[\u001b[38;5;241m1\u001b[39m] \u001b[38;5;241m/\u001b[39m \u001b[38;5;241m30000000\u001b[39m\n\u001b[0;32m---> 43\u001b[0m     logit_mean \u001b[38;5;241m+\u001b[39m\u001b[38;5;241m=\u001b[39m (\u001b[43mmodel\u001b[49m\u001b[38;5;241;43m.\u001b[39;49m\u001b[43munembed\u001b[49m\u001b[38;5;241;43m.\u001b[39;49m\u001b[43moutput_projection\u001b[49m\u001b[38;5;241;43m.\u001b[39;49m\u001b[43mweight\u001b[49m\u001b[38;5;241;43m.\u001b[39;49m\u001b[43mT\u001b[49m\u001b[43m[\u001b[49m\u001b[43m:\u001b[49m\u001b[43m,\u001b[49m\u001b[43m \u001b[49m\u001b[43mtok\u001b[49m\u001b[43m[\u001b[49m\u001b[38;5;241;43m0\u001b[39;49m\u001b[43m]\u001b[49m\u001b[43m]\u001b[49m \u001b[38;5;241m*\u001b[39m tok[\u001b[38;5;241m1\u001b[39m])\u001b[38;5;241m.\u001b[39mto(\u001b[38;5;124m'\u001b[39m\u001b[38;5;124mcuda:0\u001b[39m\u001b[38;5;124m'\u001b[39m) \u001b[38;5;241m/\u001b[39m \u001b[38;5;241m30000000\u001b[39m\n\u001b[1;32m     44\u001b[0m logit_mean \u001b[38;5;241m/\u001b[39m\u001b[38;5;241m=\u001b[39m alpha\n\u001b[1;32m     47\u001b[0m sim1 \u001b[38;5;241m=\u001b[39m \u001b[38;5;241m0\u001b[39m\n",
      "\u001b[0;31mIndexError\u001b[0m: index 44697 is out of bounds for dimension 1 with size 32000"
     ]
    }
   ],
   "source": [
    "from sklearn.decomposition import PCA\n",
    "import plotly.graph_objs as go\n",
    "import torch.nn.functional as F\n",
    "from fancy_einsum import einsum\n",
    "import matplotlib.pyplot as plt\n",
    "\n",
    "N = 1000\n",
    "f_dataset = FactDataset(\n",
    "    prompt_type=\"NCNC\",\n",
    "    N=N,\n",
    "    tokenizer=model.tokenizer,\n",
    "    prepend_bos=False,\n",
    "    counterfact=False,\n",
    ")\n",
    "\n",
    "layer_idx = 31\n",
    "\n",
    "dataset = f_dataset #.add_a_shot().add_a_shot()\n",
    "import torch\n",
    "from collections import Counter\n",
    "freq_counter = torch.load(\"openwebtext_gpt2_freq_counter\")\n",
    "logit_mean = torch.zeros(model.cfg.d_model).to('cuda:0')\n",
    "\n",
    "cache = {}\n",
    "model.cache_some(cache, lambda x: f'blocks.{layer_idx}' in x,device='cuda:2')\n",
    "with torch.no_grad():\n",
    "    model(dataset.toks.long())\n",
    "    model.reset_hooks()\n",
    "resid_post = cache[f'blocks.{layer_idx}.hook_resid_post'][torch.arange(dataset.N), dataset.word_idx['end']]\n",
    "resid_mid = cache[f'blocks.{layer_idx}.hook_resid_mid'][torch.arange(dataset.N), dataset.word_idx['end']]\n",
    "mlp_out = cache[f'blocks.{layer_idx}.hook_mlp_out'][torch.arange(dataset.N), dataset.word_idx['end']]\n",
    "bias = torch.load(f'{tensor_save_dir}/layer{layer_idx}-bias-posend.pt').to('cuda:0')\n",
    "\n",
    "logit_iw = model.unembed.output_projection.weight[dataset.IW_tokenIDs].unsqueeze(0) #.permute(1, 0)\n",
    "logit_n = model.unembed.output_projection.weight[dataset.N_tokenIDs].unsqueeze(0)\n",
    "\n",
    "\n",
    "\n",
    "from tqdm import  tqdm\n",
    "alpha = 0\n",
    "for tok in tqdm(freq_counter.items()):\n",
    "    alpha += tok[1] / 30000000\n",
    "    logit_mean += (model.unembed.output_projection.weight.T[:, tok[0]] * tok[1]).to('cuda:0') / 30000000\n",
    "logit_mean /= alpha\n",
    "\n",
    "\n",
    "sim1 = 0\n",
    "sim2 = 0\n",
    "\n",
    "for i in range(dataset.N):\n",
    "    \n",
    "    M = torch.column_stack((logit_iw, logit_mean))\n",
    "    \n",
    "    P = M @ torch.linalg.inv(M.T @ M) @ M.T\n",
    "    sim1 += F.cosine_similarity(P @ bias, logit_mean, dim=0)\n",
    "    sim2 += F.cosine_similarity(P @ bias, logit_mean - logit_iw, dim=0)\n",
    "\n",
    "print(sim1 / dataset.N)\n",
    "print(sim2 / dataset.N)\n",
    "\n",
    "model.reset_hooks()"
   ]
  },
  {
   "cell_type": "code",
   "execution_count": null,
   "metadata": {},
   "outputs": [],
   "source": [
    "f_dataset = FactDataset(\n",
    "    prompt_type=\"NCNC\",\n",
    "    N=1000,\n",
    "    tokenizer=model.tokenizer,\n",
    "    prepend_bos=False,\n",
    "    counterfact=False,\n",
    ")\n",
    "\n",
    "print()"
   ]
  },
  {
   "cell_type": "markdown",
   "metadata": {},
   "source": [
    "## mitigating the suppression by the final layer"
   ]
  },
  {
   "cell_type": "code",
   "execution_count": 3,
   "metadata": {
    "metadata": {}
   },
   "outputs": [
    {
     "name": "stdout",
     "output_type": "stream",
     "text": [
      "Warning: There are only 225 unique data sample in dataset\n",
      "torch.Size([225, 32, 19, 128])\n",
      "torch.Size([225, 32, 19, 19])\n",
      "mask_attn done...\n"
     ]
    }
   ],
   "source": [
    "import torch.nn.functional as F\n",
    "import torch.nn as nn\n",
    "from fancy_einsum import einsum\n",
    "import matplotlib.pyplot as plt\n",
    "\n",
    "f_dataset = FactDataset(\n",
    "    prompt_type=\"NCNC\",\n",
    "    N=1000,\n",
    "    tokenizer=model.tokenizer,\n",
    "    prepend_bos=False,\n",
    "    counterfact=False,\n",
    ")\n",
    "f_dataset = f_dataset#.add_a_shot()#.add_a_shot()\n",
    "layer_idx = 31\n",
    "layer_str = str(layer_idx)\n",
    "\n",
    "x_list = []\n",
    "y_list = []\n",
    "x_var = []\n",
    "y_var = []\n",
    "cache = {}\n",
    "model.cache_some(cache, lambda x : layer_str in x, device='cuda:3')\n",
    "with torch.no_grad():\n",
    "    model(f_dataset.toks.long())\n",
    "\n",
    "gpu_num = torch.cuda.device_count()-1\n",
    "device_id = int(layer_idx / model.cfg.n_layers * gpu_num)\n",
    "\n",
    "input_shape = f_dataset.toks.shape[-1]\n",
    "mask = torch.ones(input_shape, input_shape).to(f'cuda:{device_id}') # 0-shot mask\n",
    "# # mask = torch.ones(21, 21).to(f'cuda:{device_id}') # 1-shot mask\n",
    "# # mask = torch.ones(28, 28).to(f'cuda:{device_id}')  # 2-shot mask\n",
    "\n",
    "mask = torch.tril(mask, diagonal=-1) * -99999\n",
    "\n",
    "# apply attention mask\n",
    "\n",
    "attn_scores = cache[f'blocks.{layer_idx}.attn.hook_attn_scores'].to(f'cuda:{device_id}') #+ mask[None, None, :, :]\n",
    "attn_matrix =  nn.functional.softmax(\n",
    "                attn_scores, dim=-1, dtype=torch.float32\n",
    "            )\n",
    "v = cache[f'blocks.{layer_idx}.attn.hook_v'].to(f'cuda:{device_id}').transpose(1, 2)\n",
    "print(v.shape)\n",
    "print(attn_scores.shape)\n",
    "z = torch.matmul(attn_matrix, v)\n",
    "z = z.transpose(1, 2).contiguous() #\"batch pos head_index d_head\n",
    "\n",
    "\n",
    "# z = z.reshape(bsz, q_len,  d_model)\n",
    "\n",
    "\n",
    "# print(z)\n",
    "# input()\n",
    "# out = self.out_proj(z)\n",
    "# print(out)\n",
    "wo = model.blocks[layer_idx].attn.out_proj.weight.reshape(model.cfg.d_model, -1, model.cfg.d_head)\n",
    "# print(z.shape)\n",
    "out = torch.einsum(\" ...ikj,...kj ->...ki\",[wo, z])\n",
    "result = out.detach()\n",
    "out = out.sum(-2) # [bsz, q_len, d_model]\n",
    "# z = einsum(\n",
    "#             \"batch key_pos head_index d_head, \\\n",
    "#             batch head_index query_pos key_pos -> \\\n",
    "#             batch query_pos head_index d_head\",\n",
    "#             cache[f'blocks.{layer_idx}.attn.hook_v'].to(f'cuda:{device_id}'),\n",
    "#             attn_matrix,\n",
    "#         )\n",
    "# result = einsum(\n",
    "#                 \"batch pos head_index d_head, \\\n",
    "#                     head_index d_head d_model -> \\\n",
    "#                     batch pos head_index d_model\",\n",
    "#                 z,\n",
    "#                 model.blocks[layer_idx].attn.W_O.to(f'cuda:{device_id}'),\n",
    "#         )\n",
    "# out = einops.reduce(\n",
    "#                     result, \"batch position index model->batch position model\", \"sum\"\n",
    "#                 ) + model.blocks[layer_idx].attn.b_O.to(f'cuda:{device_id}')\n",
    "resid_pre = cache[f'blocks.{layer_idx}.hook_resid_pre'].to(f'cuda:{device_id}')\n",
    "resid_mid = resid_pre + out\n",
    "\n",
    "\n",
    "normalized_resid_mid = model.blocks[layer_idx].ln2(resid_mid)\n",
    "\n",
    "mlp_out = model.blocks[layer_idx].mlp(normalized_resid_mid)\n",
    "\n",
    "print('mask_attn done...')\n"
   ]
  },
  {
   "cell_type": "code",
   "execution_count": 4,
   "metadata": {
    "metadata": {}
   },
   "outputs": [
    {
     "name": "stdout",
     "output_type": "stream",
     "text": [
      "start training...\n"
     ]
    },
    {
     "name": "stderr",
     "output_type": "stream",
     "text": [
      "100%|██████████| 60000/60000 [00:33<00:00, 1777.09it/s]\n"
     ]
    }
   ],
   "source": [
    "\n",
    "\"\"\"\n",
    "train a new bias because attention outputs has changed\n",
    "\"\"\"\n",
    "# layer_idx = 11\n",
    "pos = 'end'\n",
    "x = []\n",
    "y = mlp_out[torch.arange(f_dataset.N), f_dataset.word_idx[pos]].detach().to('cuda:0')\n",
    "for head in range(model.cfg.n_heads):\n",
    "    attn_out = result[:,:,head]  \n",
    "    x.append(attn_out[torch.arange(f_dataset.N), f_dataset.word_idx[pos]].detach().to('cuda:0'))\n",
    "x.append(resid_pre[torch.arange(f_dataset.N), f_dataset.word_idx[pos]].detach().to('cuda:0'))\n",
    "# x.append(model.blocks[layer_idx].attn.b_O.unsqueeze(0).repeat(f_dataset.N, 1).to('cuda:0'))\n",
    "x = torch.stack(x, dim=0) # head+1, N, 4096\n",
    "from torch.optim import SGD\n",
    "loss = torch.nn.MSELoss(reduction='mean')\n",
    "weight = torch.tensor(torch.ones(x.shape[0], 1, 1), device='cuda:0', requires_grad=True)\n",
    "bias = torch.tensor(torch.zeros(x.shape[-1]), device='cuda:0', requires_grad=True)\n",
    "optimizer = SGD([weight, bias], lr=5e-3, momentum=0.99)\n",
    "print('start training...')\n",
    "steps = 60000\n",
    "best_l = 999\n",
    "best_w = None\n",
    "best_b = None\n",
    "best_error = 0\n",
    "for i in tqdm(range(steps)):\n",
    "    optimizer.zero_grad()\n",
    "    l = loss((weight * x).sum(dim=0) + bias, y)\n",
    "    l.backward()\n",
    "    optimizer.step()\n",
    "    if i % 100 == 0:\n",
    "        if l < best_l:\n",
    "            best_l = l\n",
    "            best_w = weight.view(-1)\n",
    "            best_error = torch.sqrt(best_l) / torch.norm(y, dim=-1).mean(0)\n",
    "            best_b = bias\n",
    "\n",
    "model.reset_hooks()\n"
   ]
  },
  {
   "cell_type": "code",
   "execution_count": 7,
   "metadata": {
    "metadata": {}
   },
   "outputs": [
    {
     "name": "stdout",
     "output_type": "stream",
     "text": [
      "['Lis', 'not', 'L', 'a', 'the', 'in', '\"', 'indeed', '', 'also', ',', 'actually', '\\n', 'called', 'one', \"'\", 'located', ':', 'L', 'NOT']\n",
      "tensor(1.5948, device='cuda:1', grad_fn=<DivBackward0>)\n",
      "['Lis', 'not', 'the', 'located', 'a', 'in', 'also', ',', 'actually', 'L', 'situated', 'Porto', 'indeed', '\"', 'called', 'Portugal', 'one', ':', 'home', 'simply']\n",
      "tensor(3.5069, device='cuda:1', grad_fn=<DivBackward0>)\n",
      "[tensor(0.0004), tensor(0.0016)]\n",
      "[tensor(0.5243), tensor(0.2911)]\n"
     ]
    },
    {
     "data": {
      "image/png": "[encoded data removed]",
      "text/plain": [
       "<Figure size 600x900 with 1 Axes>"
      ]
     },
     "metadata": {},
     "output_type": "display_data"
    }
   ],
   "source": [
    "\n",
    "# subtract intercept\n",
    "x_list = []\n",
    "y_list = []\n",
    "resid_post = resid_mid + mlp_out #- best_b.to(f'cuda:{device_id}')\n",
    "# resid_pre, \n",
    "for idx, o in enumerate([resid_mid,  resid_post]):\n",
    "    logits = model.unembed(model.ln_final(o.to('cuda:1')))\n",
    "    k = 20\n",
    "    seq_idx = 0\n",
    "    pred_tokens = [\n",
    "            model.tokenizer.decode(token)\n",
    "            for token in torch.topk(\n",
    "                logits[seq_idx, f_dataset.word_idx['end'][seq_idx]], k\n",
    "            ).indices\n",
    "        ]\n",
    "\n",
    "    print(pred_tokens)\n",
    "\n",
    "    x_probs = []\n",
    "    y_probs = []\n",
    "    ent = 0\n",
    "    for seq_idx, prompt in enumerate(f_dataset.ioi_prompts):\n",
    "        probs = torch.softmax(logits[seq_idx, f_dataset.word_idx['end'][seq_idx]], dim=0)\n",
    "        ent += -(probs * torch.log(probs)).sum()\n",
    "        x_probs.append(probs[f_dataset.N_tokenIDs[seq_idx]].detach().cpu())\n",
    "        y_probs.append(probs[f_dataset.IW_tokenIDs[seq_idx]].detach().cpu())\n",
    "    \n",
    "    x_list.append(torch.mean(torch.tensor(x_probs)))\n",
    "    y_list.append(torch.mean(torch.tensor(y_probs)))\n",
    "    x_var.append(torch.std(torch.tensor(x_probs)))\n",
    "    y_var.append(torch.std(torch.tensor(y_probs)))\n",
    "    print(ent / f_dataset.N)\n",
    "print(x_list)\n",
    "print(y_list)\n",
    "model.reset_hooks()\n",
    "\n",
    "\n",
    "fig = plt.figure(figsize=(6,9))\n",
    "plt.plot(range(len(x_list)), x_list, marker='*', label='X', color='#00008B',linewidth=2,) # , c=colors, cmap='viridis'\n",
    "plt.plot(range(len(x_list)), y_list, marker='*', label='Y', color='#DC143C',linewidth=2,) # , c=colors, cmap='RdBu')\n",
    "plt.fill_between(range(len(x_list)), [a - b for a, b in zip(x_list, x_var)], [a + b for a, b in zip(x_list, x_var)], color='#00008B', alpha=0.2)\n",
    "plt.fill_between(range(len(x_list)), [a - b for a, b in zip(y_list, y_var)], [a + b for a, b in zip(y_list, y_var)], color='#DC143C', alpha=0.2)\n",
    "\n",
    "# plt.legend()\n",
    "plt.xticks(range(0,2,1), fontsize=14)\n",
    "# fig.savefig('last_layer-llama-0-no-mask.pdf')\n",
    "plt.show()"
   ]
  },
  {
   "cell_type": "code",
   "execution_count": null,
   "metadata": {},
   "outputs": [
    {
     "name": "stdout",
     "output_type": "stream",
     "text": [
      "['Lis', 'not', 'L', 'a', 'the', 'in', '\"', 'indeed', '', 'also', ',', 'actually', '\\n', 'called', 'one', \"'\", 'located', ':', 'L', 'NOT']\n",
      "tensor(1.5948, device='cuda:1', grad_fn=<DivBackward0>)\n",
      "['Lis', 'not', 'the', 'located', 'a', 'in', 'also', ',', 'actually', 'L', 'situated', 'Porto', 'indeed', '\"', 'called', 'Portugal', 'one', ':', 'home', 'simply']\n",
      "tensor(3.5069, device='cuda:1', grad_fn=<DivBackward0>)\n",
      "[tensor(0.0004), tensor(0.0016)]\n",
      "[tensor(0.5243), tensor(0.2911)]\n"
     ]
    },
    {
     "data": {
      "image/png": "[encoded data removed]",
      "text/plain": [
       "<Figure size 600x900 with 1 Axes>"
      ]
     },
     "metadata": {},
     "output_type": "display_data"
    }
   ],
   "source": [
    "\n",
    "# subtract intercept\n",
    "x_list = []\n",
    "y_list = []\n",
    "resid_post = resid_mid + mlp_out #- best_b.to(f'cuda:{device_id}')\n",
    "# resid_pre, \n",
    "for idx, o in enumerate([resid_mid,  resid_post]):\n",
    "    logits = model.unembed(model.ln_final(o.to('cuda:1')))\n",
    "    k = 20\n",
    "    seq_idx = 0\n",
    "    pred_tokens = [\n",
    "            model.tokenizer.decode(token)\n",
    "            for token in torch.topk(\n",
    "                logits[seq_idx, f_dataset.word_idx['end'][seq_idx]], k\n",
    "            ).indices\n",
    "        ]\n",
    "\n",
    "    print(pred_tokens)\n",
    "\n",
    "    x_probs = []\n",
    "    y_probs = []\n",
    "    ent = 0\n",
    "    for seq_idx, prompt in enumerate(f_dataset.ioi_prompts):\n",
    "        probs = torch.softmax(logits[seq_idx, f_dataset.word_idx['end'][seq_idx]], dim=0)\n",
    "        ent += -(probs * torch.log(probs)).sum()\n",
    "        x_probs.append(probs[f_dataset.N_tokenIDs[seq_idx]].detach().cpu())\n",
    "        y_probs.append(probs[f_dataset.IW_tokenIDs[seq_idx]].detach().cpu())\n",
    "    \n",
    "    x_list.append(torch.mean(torch.tensor(x_probs)))\n",
    "    y_list.append(torch.mean(torch.tensor(y_probs)))\n",
    "    x_var.append(torch.std(torch.tensor(x_probs)))\n",
    "    y_var.append(torch.std(torch.tensor(y_probs)))\n",
    "    print(ent / f_dataset.N)\n",
    "print(x_list)\n",
    "print(y_list)\n",
    "model.reset_hooks()\n",
    "\n",
    "\n",
    "fig = plt.figure(figsize=(6,9))\n",
    "plt.plot(range(len(x_list)), x_list, marker='*', label='X', color='#00008B',linewidth=2,) # , c=colors, cmap='viridis'\n",
    "plt.plot(range(len(x_list)), y_list, marker='*', label='Y', color='#DC143C',linewidth=2,) # , c=colors, cmap='RdBu')\n",
    "plt.fill_between(range(len(x_list)), [a - b for a, b in zip(x_list, x_var)], [a + b for a, b in zip(x_list, x_var)], color='#00008B', alpha=0.2)\n",
    "plt.fill_between(range(len(x_list)), [a - b for a, b in zip(y_list, y_var)], [a + b for a, b in zip(y_list, y_var)], color='#DC143C', alpha=0.2)\n",
    "\n",
    "# plt.legend()\n",
    "plt.xticks(range(0,2,1), fontsize=14)\n",
    "# fig.savefig('last_layer-llama-0-no-mask.pdf')\n",
    "plt.show()"
   ]
  },
  {
   "cell_type": "markdown",
   "metadata": {},
   "source": [
    "## capital to name"
   ]
  },
  {
   "cell_type": "code",
   "execution_count": null,
   "metadata": {},
   "outputs": [],
   "source": [
    "# 模型在ioi数据上正常的输出\n",
    "model.reset_hooks()\n",
    "model_logit_diff, _ = logit_diff(model, f_dataset, metric='n') # 返回两个token被预测logit的差\n",
    "# model_io_probs = probs(model, f_dataset, type=\"IW\") # 返回io token被预测的概率\n",
    "print(\n",
    "    f\"The model gets average logit difference {model_logit_diff.item()}\"\n",
    ")\n",
    "model_logit_diff, _ = logit_diff(model, f_dataset, metric='iw') # 返回两个token被预测logit的差\n",
    "print(\n",
    "    f\"The model gets average logit difference {model_logit_diff.item()}\"\n",
    ")\n",
    "\n",
    "\n",
    "name_dataset = (f_dataset.gen_flipped_prompts(('R', 'name')))\n",
    "mean_dataset = (\n",
    "        f_dataset.gen_flipped_prompts((\"N\", \"RAND\"))\n",
    "    )\n",
    "print(name_dataset.tokenized_prompts[:2])\n",
    "print(name_dataset.word_idx['end'][:2])\n",
    "# The circuit\n",
    "circuit = {'todo': [(7,8)]}\n",
    "\n",
    "# we then add hooks to the model to knockout all the heads except the circuit\n",
    "model.reset_hooks()\n",
    "model, _ = do_circuit_extraction(\n",
    "    model=model,\n",
    "    # get_heads_circuit返回字典，整个circuit中的head为key，格式为{(l,h):[x,x,x,x]}，value list的长度是数据集长度，值是每个样本当前head需要注意的token的index\n",
    "    heads_to_remove=get_heads_circuit(ioi_dataset=f_dataset, circuit=circuit, pos=['end']),\n",
    "    mlps_to_remove={},\n",
    "    ioi_dataset=f_dataset,\n",
    "    mean_dataset=name_dataset, # mean ablation\n",
    ")\n",
    "\n",
    "circuit_logit_diff, _ = logit_diff(model, f_dataset, metric='n')\n",
    "print(\n",
    "    f\"The circuit gets average logit difference {circuit_logit_diff.item()}\"\n",
    ")\n",
    "circuit_logit_diff, _ = logit_diff(model, f_dataset, metric='iw')\n",
    "print(\n",
    "    f\"The circuit gets average logit difference {circuit_logit_diff.item()}\"\n",
    ")\n",
    "# circuit_io_probs = probs(model, ioi_dataset, type=\"io\") # 返回io token被预测的概率\n",
    "# print(f\"The circuit gets average IO probs {circuit_io_probs.item()} over {N} examples\")\n",
    "\n",
    "# print(f'Circuit acheves {100 - abs(circuit_logit_diff - model_logit_diff) / model_logit_diff * 100}% model performance') \n",
    "model.reset_hooks()"
   ]
  },
  {
   "cell_type": "markdown",
   "metadata": {},
   "source": [
    "# Other Tools"
   ]
  },
  {
   "cell_type": "markdown",
   "metadata": {},
   "source": [
    "## Visualize attention patterns"
   ]
  },
  {
   "cell_type": "code",
   "execution_count": null,
   "metadata": {},
   "outputs": [],
   "source": [
    "pattern_d = FactDataset(\n",
    "    prompt_type=\"NCNC\",\n",
    "    N=300,\n",
    "    tokenizer=model.tokenizer,\n",
    "    prepend_bos=False,\n",
    "    counterfact=False,\n",
    ")\n",
    "# pattern_d = pattern_d.add_a_shot().add_a_shot()\n",
    "for head in range(model.cfg.n_heads):\n",
    "    show_attention_patterns(model, [(11, head)], pattern_d[4:5], mode=\"attn\", figure_save_dir=figure_save_dir)\n",
    "model.reset_hooks()"
   ]
  },
  {
   "cell_type": "markdown",
   "metadata": {},
   "source": [
    "## Copy Score"
   ]
  },
  {
   "cell_type": "code",
   "execution_count": null,
   "metadata": {},
   "outputs": [],
   "source": [
    "def check_copy_circuit(model, layer, head, ioi_dataset, verbose=False, neg=False):\n",
    "    cache = {}\n",
    "    model.cache_some(cache, lambda x: x == f\"blocks.{layer}.hook_resid_post\")\n",
    "    model(ioi_dataset.toks.long())\n",
    "    if neg:\n",
    "        sign = -1\n",
    "    else:\n",
    "        sign = 1\n",
    "\n",
    "    gpu_num = torch.cuda.device_count()\n",
    "    device_id = int(layer / model.cfg.n_layers * gpu_num)\n",
    "    z_0 = cache[f\"blocks.{layer}.hook_resid_post\"].to(f'cuda:{device_id}')\n",
    "\n",
    "    v = torch.einsum(\"eab,bc->eac\", z_0, model.blocks[layer].attn.W_V[head])\n",
    "    v += model.blocks[layer].attn.b_V[head].unsqueeze(0).unsqueeze(0)\n",
    "\n",
    "    o = sign * torch.einsum(\"sph,hd->spd\", v, model.blocks[layer].attn.W_O[head])\n",
    "    logits = model.unembed(model.ln_final(o).to('cuda:0'))\n",
    "\n",
    "    k = 10\n",
    "    n_right = 0\n",
    "\n",
    "    for seq_idx, prompt in enumerate(ioi_dataset.ioi_prompts):\n",
    "        for word in [\"N\"]:\n",
    "            pred_tokens = [\n",
    "                model.tokenizer.decode(token)\n",
    "                for token in torch.topk(\n",
    "                    logits[seq_idx, ioi_dataset.word_idx[word][seq_idx]], k\n",
    "                ).indices\n",
    "            ]\n",
    "\n",
    "            if \"N\" in word:\n",
    "                name = \"N\"\n",
    "            else:\n",
    "                name = word\n",
    "            if \" \" + prompt[name] in pred_tokens:\n",
    "                n_right += 1\n",
    " \n",
    "    percent_right = (n_right / (ioi_dataset.N)) * 100\n",
    "    print(\n",
    "        f\"Copy circuit for head {layer}.{head} (sign={sign}) : Top {k} accuracy: {percent_right}%\"\n",
    "    )\n",
    "    return percent_right\n",
    "\n",
    "\n",
    "neg_sign = False\n",
    "print(\" --- Mover heads --- \")\n",
    "check_copy_circuit(model, 7, 8, f_dataset, neg=neg_sign)\n",
    "check_copy_circuit(model, 9, 8, f_dataset, neg=neg_sign)\n",
    "check_copy_circuit(model, 10, 0, f_dataset, neg=neg_sign)\n",
    "check_copy_circuit(model, 11, 3, f_dataset, neg=neg_sign)\n",
    "check_copy_circuit(model, 11, 2, f_dataset, neg=neg_sign)\n",
    "\n",
    "neg_sign = True\n",
    "print(\" --- Negative heads --- \")\n",
    "check_copy_circuit(model, 10, 7, f_dataset, neg=neg_sign)\n",
    "check_copy_circuit(model, 11, 10, f_dataset, neg=neg_sign)"
   ]
  }
 ],
 "metadata": {
  "kernelspec": {
   "display_name": "nn",
   "language": "python",
   "name": "python3"
  },
  "language_info": {
   "codemirror_mode": {
    "name": "ipython",
    "version": 3
   },
   "file_extension": ".py",
   "mimetype": "text/x-python",
   "name": "python",
   "nbconvert_exporter": "python",
   "pygments_lexer": "ipython3",
   "version": "3.8.18"
  },
  "orig_nbformat": 4
 },
 "nbformat": 4,
 "nbformat_minor": 2
}
